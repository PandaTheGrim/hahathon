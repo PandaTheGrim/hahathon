{
 "nbformat": 4,
 "nbformat_minor": 0,
 "metadata": {
  "colab": {
   "provenance": []
  },
  "kernelspec": {
   "name": "python3",
   "display_name": "Python 3 (ipykernel)",
   "language": "python"
  },
  "language_info": {
   "name": "python"
  }
 },
 "cells": [
  {
   "cell_type": "markdown",
   "source": [
    "# Анализ работы модели предсказания качества воздуха\n",
    "\n",
    "В работе используются:\n",
    "- Модель Air Quality Prediction ([Kaggle](https://www.kaggle.com/code/hamedetezadi/air-quality-prediction)), в формате [ноутбука](https://colab.research.google.com/drive/14Tlqrmg76i7S33Gc5P5iFvjh7Ml2dXxB?usp=sharing)\n",
    "- Датасет  «СОСТОЯНИЕ ЗАГРЯЗНЕНИЯ АТМОСФЕРЫ В\n",
    " ГОРОДАХ РОССИИ C 2007 ГОДА» - взят с сайта [Если быть точным](https://tochno.st/datasets/air_cities)\n"
   ],
   "metadata": {
    "id": "1j1HOKNPqxKi"
   }
  },
  {
   "cell_type": "markdown",
   "source": "# 1. Скачивание датасета",
   "metadata": {
    "id": "q1GYOSPSqW_Z"
   }
  },
  {
   "cell_type": "code",
   "source": [
    "import os\n",
    "\n",
    "import kagglehub\n",
    "\n",
    "source_dataset_name = \"shrutibhargava94/india-air-quality-data\"\n",
    "source_dataset_files_path = kagglehub.dataset_download(source_dataset_name)\n",
    "\n",
    "print(f\"Скачиваем исходный датасет {source_dataset_name}\")\n",
    "for filename in os.listdir(source_dataset_files_path):\n",
    "    source = os.path.join(source_dataset_files_path, filename)\n",
    "    if os.path.isfile(source):\n",
    "        with open(source, 'rb') as src:\n",
    "            content = src.read()\n",
    "\n",
    "        with open(os.path.join(\"./data\", filename), 'w') as dst:\n",
    "            dst.write(content.decode('utf-8', errors='ignore'))\n",
    "\n",
    "print(f\"Исходный датасет {source_dataset_name} помещен в папку проекта data\")"
   ],
   "metadata": {
    "colab": {
     "base_uri": "https://localhost:8080/"
    },
    "id": "R3CsHZMMuNiS",
    "outputId": "3decd9ef-a388-49cb-f7f1-57283812464f",
    "ExecuteTime": {
     "end_time": "2025-02-02T13:25:01.305936Z",
     "start_time": "2025-02-02T13:24:58.105449Z"
    }
   },
   "outputs": [
    {
     "name": "stdout",
     "output_type": "stream",
     "text": [
      "Warning: Looks like you're using an outdated `kagglehub` version, please consider updating (latest version: 0.3.6)\n",
      "Скачиваем исходный датасет shrutibhargava94/india-air-quality-data\n",
      "Исходный датасет shrutibhargava94/india-air-quality-data помещен в папку проекта data\n"
     ]
    }
   ],
   "execution_count": 2
  },
  {
   "metadata": {},
   "cell_type": "markdown",
   "source": "## 2. Импорт необходимых зависимостей"
  },
  {
   "metadata": {
    "ExecuteTime": {
     "end_time": "2025-02-02T13:26:05.447282Z",
     "start_time": "2025-02-02T13:26:04.814252Z"
    }
   },
   "cell_type": "code",
   "source": [
    "import pandas as pd\n",
    "import numpy as np\n",
    "import joblib as jl\n",
    "import re"
   ],
   "outputs": [],
   "execution_count": 3
  },
  {
   "cell_type": "markdown",
   "source": "## 3. Обработка исходных данных",
   "metadata": {
    "id": "M6ySxIkAskwu"
   }
  },
  {
   "metadata": {
    "ExecuteTime": {
     "end_time": "2025-02-02T13:26:07.373874Z",
     "start_time": "2025-02-02T13:26:07.295765Z"
    }
   },
   "cell_type": "code",
   "source": [
    "# Загрузка данных датасета\n",
    "dataset_path = 'data/data_air_cities_100_v20231129.csv'\n",
    "dataset_files_path = pd.read_csv(dataset_path, sep=';', engine='python')\n",
    "\n",
    "# Наименования столбцов, которые должны содержать только числовые данные\n",
    "columns_with_numeric_values = ['air_solid_emissions', 'air_so_emissions', 'air_no_emissions', 'air_co_emissions',\n",
    "                               'air_population', 'air_repeatability']\n",
    "\n",
    "# Функция для извлечения числовых значений\n",
    "def extract_only_number(value):\n",
    "    if isinstance(value, str):\n",
    "        match = re.search(r'\\d+(\\.\\d+)?', value)\n",
    "        return float(match.group()) if match else np.nan\n",
    "\n",
    "    return value\n",
    "\n",
    "# Очистка числовых данных от текста, если он есть в столбце, где это не подразумевается\n",
    "for column in columns_with_numeric_values:\n",
    "    dataset_files_path[column] = dataset_files_path[column].apply(extract_only_number)\n",
    "\n",
    "# Заполнение пустых числовых данных средним значением\n",
    "dataset_files_path[columns_with_numeric_values] = dataset_files_path[columns_with_numeric_values].fillna(\n",
    "    dataset_files_path[columns_with_numeric_values].mean())\n",
    "\n",
    "# Нормализация числовых данных (мин-макс нормализация)\n",
    "dataset_files_path[columns_with_numeric_values] = dataset_files_path[columns_with_numeric_values].apply(\n",
    "    lambda x: (x - x.min()) / (x.max() - x.min())\n",
    ")\n",
    "\n",
    "# Обработка пропущенных значений категориальных данных модой\n",
    "columns_with_categorical_values = ['region', 'city', 'air_general_level', 'air_standard_index']\n",
    "dataset_files_path[columns_with_categorical_values] = dataset_files_path[columns_with_categorical_values].apply(\n",
    "    lambda x: x.fillna(x.mode()[0])\n",
    ")\n",
    "\n",
    "# Кодирование категориальных данных\n",
    "data_encoded = pd.get_dummies(dataset_files_path, columns=columns_with_categorical_values, drop_first=True)\n",
    "print(f\"Обработка исходных данных завершена\")"
   ],
   "outputs": [
    {
     "name": "stdout",
     "output_type": "stream",
     "text": [
      "Обработка исходных данных завершена\n"
     ]
    }
   ],
   "execution_count": 4
  },
  {
   "metadata": {},
   "cell_type": "markdown",
   "source": "## 4. Подготовка существующей модели"
  },
  {
   "cell_type": "code",
   "source": [
    "# Загрузка существующей модели\n",
    "model_name = \"Air_Quality_Prediction.joblib\"\n",
    "model_path = f\"model/{model_name}\"\n",
    "model = jl.load(model_path)\n",
    "\n",
    "# Определяем ожидаемые признаки для модели\n",
    "expected_features = model.feature_names_in_\n",
    "print(\"Ожидаемые моделью признаки:\", expected_features)\n",
    "print(\"Текущие признаки:\", data_encoded.columns.tolist())\n",
    "\n",
    "# Подготавливаем список отсутствующих в наших данных признаков\n",
    "missing_features = set(expected_features) - set(data_encoded.columns)\n",
    "print(\"Отсутствующие признаки:\", data_encoded.columns.tolist())\n",
    "\n",
    "# Добавляем отсутствующие признаки, заполняя их нулями\n",
    "for feature in missing_features:\n",
    "    data_encoded[feature] = 0\n",
    "\n",
    "# Оставляем только нужные признаки для модели\n",
    "data_final = data_encoded[list(expected_features)].copy()"
   ],
   "metadata": {
    "colab": {
     "base_uri": "https://localhost:8080/"
    },
    "id": "vk3_Syg1sihi",
    "outputId": "fa6ee615-4113-447d-c308-d1fc3c5ae632",
    "ExecuteTime": {
     "end_time": "2025-02-02T13:32:48.057422Z",
     "start_time": "2025-02-02T13:32:48.048251Z"
    }
   },
   "outputs": [
    {
     "name": "stdout",
     "output_type": "stream",
     "text": [
      "Ожидаемые моделью признаки: ['SOi' 'Noi' 'Rpi' 'SPMi']\n",
      "Текущие признаки: ['year', 'region_oktmo', 'city_oktmo', 'air_repeatability', 'air_qcp', 'air_solid_emissions', 'air_so_emissions', 'air_no_emissions', 'air_co_emissions', 'air_population', 'air_stantions', 'region_Амурская область', 'region_Архангельская область', 'region_Астраханская область', 'region_Белгородская область', 'region_Брянская область', 'region_Владимирская область', 'region_Волгоградская область', 'region_Вологодская область', 'region_Воронежская область', 'region_Еврейская автономная область', 'region_Забайкальский край', 'region_Ивановская область', 'region_Иркутская область', 'region_Калининградская область', 'region_Калужская область', 'region_Камчатский край', 'region_Карачаево-Черкесская Республика', 'region_Кемеровская область', 'region_Кировская область', 'region_Костромская область', 'region_Краснодарский край', 'region_Красноярский край', 'region_Курганская область', 'region_Курская область', 'region_Ленинградская область', 'region_Липецкая область', 'region_Магаданская область', 'region_Москва', 'region_Московская область', 'region_Мурманская область', 'region_Нижегородская область', 'region_Новгородская область', 'region_Новосибирская область', 'region_Омская область', 'region_Оренбургская область', 'region_Орловская область', 'region_Пензенская область', 'region_Пермский край', 'region_Приморский край', 'region_Псковская область', 'region_Республика Башкортостан', 'region_Республика Бурятия', 'region_Республика Дагестан', 'region_Республика Карелия', 'region_Республика Коми', 'region_Республика Крым', 'region_Республика Мордовия', 'region_Республика Саха (Якутия)', 'region_Республика Северная Осетия — Алания', 'region_Республика Татарстан', 'region_Республика Тыва', 'region_Республика Хакасия', 'region_Ростовская область', 'region_Рязанская область', 'region_Самарская область', 'region_Санкт-Петербург', 'region_Саратовская область', 'region_Сахалинская область', 'region_Свердловская область', 'region_Севастополь', 'region_Смоленская область', 'region_Ставропольский край', 'region_Тамбовская область', 'region_Тверская область', 'region_Томская область', 'region_Тульская область', 'region_Тюменская область', 'region_Удмуртская Республика', 'region_Ульяновская область', 'region_Хабаровский край', 'region_Ханты-Мансийский автономный округ — Югра', 'region_Челябинская область', 'region_Чувашская Республика', 'region_Чукотский автономный округ', 'region_Ямало-Ненецкий автономный округ', 'region_Ярославская область', 'city_«ЕРМАКОВСКОЕ»', 'city_«НАЗАРОВСКОЕ»', 'city_«ОЗЕРНОЕ»', 'city_«ОКИНО-КЛЮЧЕВСКОЕ», С.ХУЖИР', 'city_АБАКАН', 'city_АЗОВ', 'city_АКСАРАЙСКИЙ', 'city_АЛЕКСАНДРОВСК-САХАЛИНСКИЙ', 'city_АЛЬМЕТЬЕВСК', 'city_АНАДЫРЬ', 'city_АНГАРСК', 'city_АПАТИТЫ', 'city_АРЗАМАС', 'city_АРМЯНСК', 'city_АРТЕМ', 'city_АРХАНГЕЛЬСК', 'city_АРШАН', 'city_АСТРАХАНЬ', 'city_АЧИНСК', 'city_Б. САКМА', 'city_БАЙБЕК', 'city_БАЙКАЛЬСК', 'city_БАЛАКОВО', 'city_БАЛАХНА', 'city_БАРНАУЛ', 'city_БАТАЙСК', 'city_БЕЗЕНЧУК', 'city_БЕЛАЯ КАЛИТВА', 'city_БЕЛГОРОД', 'city_БЕЛОРЕЧЕНСК', 'city_БЕЛОЯРСКИЙ', 'city_БЕРДСК', 'city_БЕРЕЗНИКИ', 'city_БЕРЕЗОВО', 'city_БИЙСК', 'city_БИРОБИДЖАН', 'city_БИРЮСИНСК', 'city_БЛАГОВЕЩЕНСК', 'city_БОЛЬШАЯ САКМА', 'city_БОЛЬШОЙ КАМЕНЬ', 'city_БОРОВИЧИ', 'city_БРАТСК', 'city_БРЯНСК', 'city_БУЗАН', 'city_ВЕЛИКИЕ ЛУКИ', 'city_ВЕЛИКИЙ НОВГОРОД', 'city_ВИХОРЕВКА', 'city_ВЛАДИВОСТОК', 'city_ВЛАДИКАВКАЗ', 'city_ВЛАДИМИР', 'city_ВОЕЙКОВО', 'city_ВОЛГОГРАД', 'city_ВОЛГОДОНСК', 'city_ВОЛГОРЕЧЕНСК', 'city_ВОЛЖСКИЙ', 'city_ВОЛОГДА', 'city_ВОЛОСОВО', 'city_ВОЛХОВ', 'city_ВОРКУТА', 'city_ВОРОНЕЖ', 'city_ВОСКРЕСЕНСК', 'city_ВЫБОРГ', 'city_ВЫКСА', 'city_ГОРНЫЙ', 'city_ГОРЯЧИНСК', 'city_ГУБАХА', 'city_ГУБКИН', 'city_ГУКОВО', 'city_ГУСИНООЗЕРСК', 'city_ДАЛЬНЕГОРСК', 'city_ДЗЕРЖИНСК', 'city_ДЗЕРЖИНСК (ВОСТОЧНАЯ ПРОМЗОНА)', 'city_ДЗЕРЖИНСКИЙ', 'city_ДИМИТРОВГРАД', 'city_ДОСАНГ', 'city_ЕКАТЕРИНБУРГ', 'city_ЕЛИЗОВО', 'city_ЕРМАКОВСКОЕ', 'city_ЖИГУЛЕВСК', 'city_ЗАПОЛЯРНЫЙ', 'city_ЗАРИНСК', 'city_ЗЕЛЕНЫЙ ГОРОД', 'city_ЗЕЯ', 'city_ЗИМА', 'city_ЗЛАТОУСТ', 'city_ИВАНОВО', 'city_ИЖЕВСК', 'city_ИНЗА', 'city_ИРКУТСК', 'city_ИСКИТИМ', 'city_КАЗАНЬ', 'city_КАЛИНИНГРАД', 'city_КАЛУГА', 'city_КАМЕНСК-УРАЛЬСКИЙ', 'city_КАНДАЛАКША', 'city_КАНСК', 'city_КАРАБАШ', 'city_КЕМЕРОВО', 'city_КЕРЧЬ', 'city_КИНГИСЕПП', 'city_КИРИШИ', 'city_КИРОВ', 'city_КИРОВО-ЧЕПЕЦК', 'city_КИРОВСК', 'city_КИСЛОВОДСК', 'city_КЛИН', 'city_КОЛА', 'city_КОЛОМНА', 'city_КОМСОМОЛЬСК-НА-АМУРЕ', 'city_КОМСОМОЛЬСКИЙ', 'city_КОНДОПОГА', 'city_КОРСАКОВ', 'city_КОРЯЖМА', 'city_КОСТРОМА', 'city_КРАСНОДАР', 'city_КРАСНОКАМЕНСК', 'city_КРАСНОПЕРЕКОПСК', 'city_КРАСНОТУРЬИНСК', 'city_КРАСНОЯРСК', 'city_КРАСНЫЙ ГУЛЯЙ', 'city_КРАСНЫЙ СУЛИН', 'city_КСТОВО', 'city_КУВАНДЫК', 'city_КУЙБЫШЕВ', 'city_КУЛТУК', 'city_КУРГАН', 'city_КУРСК', 'city_КЫЗЫЛ', 'city_КЯХТА', 'city_ЛЕСОСИБИРСК', 'city_ЛИНЕВО', 'city_ЛИПЕЦК', 'city_ЛИСТВЯНКА', 'city_ЛУГА', 'city_МАГАДАН', 'city_МАГНИТОГОРСК', 'city_МАРИИНСК', 'city_МАХАЧКАЛА', 'city_МЕГЕТ', 'city_МЕДНОГОРСК', 'city_МИЛЛЕРОВО', 'city_МИНЕРАЛЬНЫЕ ВОДЫ', 'city_МИНУСИНСК', 'city_МИРНЫЙ', 'city_МОНЧЕГОРСК', 'city_МОСКВА', 'city_МОХСОГОЛЛОХ', 'city_МУЛЛОВКА', 'city_МУРМАНСК', 'city_МЫТИЩИ', 'city_НАБЕРЕЖНЫЕ ЧЕЛНЫ', 'city_НАДВОИЦЫ', 'city_НАЗАРОВО', 'city_НАЗАРОВСКОЕ', 'city_НАРИМАНОВ', 'city_НАХОДКА', 'city_НЕВИННОМЫССК', 'city_НЕРЧИНСК', 'city_НЕРЮНГРИ', 'city_НЕФТЕЮГАНСК', 'city_НИЖНЕВАРТОВСК', 'city_НИЖНЕКАМСК', 'city_НИЖНИЙ НОВГОРОД', 'city_НИЖНИЙ ТАГИЛ', 'city_НИКЕЛЬ', 'city_НИКОЛАЕВСК-НА-АМУРЕ', 'city_НИКОЛЬСКОЕ', 'city_НОВАЯ ЧАРА', 'city_НОВОАЛЕКСАНДРОВСК', 'city_НОВОДВИНСК', 'city_НОВОКУЗНЕЦК', 'city_НОВОКУЙБЫШЕВСК', 'city_НОВОМОСКОВСК', 'city_НОВОРОССИЙСК', 'city_НОВОСИБИРСК', 'city_НОВОСПАССКОЕ', 'city_НОВОТРОИЦК', 'city_НОВОУЛЬЯНОВСК', 'city_НОВОЧЕБОКСАРСК', 'city_НОВОЧЕРКАССК', 'city_НОВОШАХТИНСК', 'city_НОРИЛЬСК', 'city_ОЗЕРНОЕ', 'city_ОКИНО-КЛЮЧЕВСКОЕ', 'city_ОКТЯБРЬСКИЙ', 'city_ОЛЕНЕГОРСК', 'city_ОМСК', 'city_ОРЕЛ', 'city_ОРЕНБУРГ', 'city_ОРСК', 'city_ОТРАДНЫЙ', 'city_ОХА', 'city_П.Г.Т. ГОРНЫЙ', 'city_ПАРТИЗАНСК', 'city_ПЕВЕК', 'city_ПЕНЗА', 'city_ПЕРВОУРАЛЬСК', 'city_ПЕРЕСЛАВЛЬ-ЗАЛЕССКИЙ', 'city_ПЕРМЬ', 'city_ПЕТРОВСК-ЗАБАЙКАЛЬСКИЙ', 'city_ПЕТРОЗАВОДСК', 'city_ПЕТРОПАВЛОВСК-КАМЧАТСКИЙ', 'city_ПЛЕС', 'city_ПОДОЛЬСК', 'city_ПОРОНАЙСК', 'city_ПОС. БОЛЬШАЯ САКМА', 'city_ПОС. ВОСТОЧНЫЙ', 'city_ПОС. КРАСНОАРМЕЙСКИЙ', 'city_ПОС. ОКТЯБРЬСКИЙ', 'city_ПОХВИСТНЕВО', 'city_ПРИВОЛЖСК', 'city_ПРИОКСКО-ТЕРРАСНЫЙ БИОСФЕРНЫЙ ЗАПОВЕДНИК', 'city_ПРОКОПЬЕВСК', 'city_ПСКОВ', 'city_ПЯТИГОРСК', 'city_РАДУЖНЫЙ', 'city_РОСТОВ-НА-ДОНУ', 'city_РУКОПОЛЬ', 'city_РЫБИНСК', 'city_РЯЗАНЬ', 'city_С. БОЛЬШОЙ ЛУГ', 'city_С. СУБУКТУЙ', 'city_С. ХУЖИР', 'city_С. ЧЕЛУТАЙ', 'city_САГАН-НУР', 'city_САЛАВАТ', 'city_САЛЕХАРД', 'city_САЛЬСК', 'city_САМАРА', 'city_САНКТ-ПЕТЕРБУРГ', 'city_САРАНСК', 'city_САРАПУЛ', 'city_САРАТОВ', 'city_САЯНОГОРСК', 'city_САЯНСК', 'city_СВЕТЛЫЙ ЯР', 'city_СВЕТОГОРСК', 'city_СВИРСК', 'city_СЕВАСТОПОЛЬ', 'city_СЕВЕРОДВИНСК', 'city_СЕВЕРОМОРСК', 'city_СЕГЕЖА', 'city_СЕИТОВКА', 'city_СЕЛЕНГИНСК', 'city_СЕНГИЛЕЙ', 'city_СЕРЕБРЯНЫЙ БОР', 'city_СЕРПУХОВ', 'city_СИМФЕРОПОЛЬ', 'city_СЛАНЦЫ', 'city_СЛЮДЯНКА', 'city_СМИРНОВСКИЙ', 'city_СМОЛЕНСК', 'city_СОЛИКАМСК', 'city_СОСНОГОРСК', 'city_СОЧИ', 'city_СПАССК-ДАЛЬНИЙ', 'city_СТАВРОПОЛЬ', 'city_СТАРАЯ КУПАВНА', 'city_СТАРАЯ РУССА', 'city_СТАРЫЙ ОСКОЛ', 'city_СТЕРЛИТАМАК', 'city_СУРГУТ', 'city_СЫЗРАНЬ', 'city_СЫКТЫВКАР', 'city_ТАГАНРОГ', 'city_ТАМБОВ', 'city_ТВЕРЬ', 'city_ТИМОХОВО', 'city_ТИХВИН', 'city_ТОБОЛЬСК', 'city_ТОЛЬЯТТИ', 'city_ТОМСК', 'city_ТУЙМАЗЫ', 'city_ТУЛА', 'city_ТУЛУН', 'city_ТЫНДА', 'city_ТЮМЕНЬ', 'city_УЛАН-УДЭ', 'city_УЛЬЯНОВСК', 'city_УСОЛЬЕ-СИБИРСКОЕ', 'city_УССУРИЙСК', 'city_УСТЬ-ИЛИМСК', 'city_УСТЬ-НЕРА', 'city_УФА', 'city_УХТА', 'city_ХАБАРОВСК', 'city_ХАНТЫ-МАНСИЙСК', 'city_ЦИМЛЯНСК', 'city_ЧАПАЕВСК', 'city_ЧЕБОКСАРЫ', 'city_ЧЕГДОМЫН', 'city_ЧЕЛЯБИНСК', 'city_ЧЕРЕМХОВО', 'city_ЧЕРЕПОВЕЦ', 'city_ЧЕРКЕССК', 'city_ЧЕРНОГОРСК', 'city_ЧИТА', 'city_ШАХТЫ', 'city_ШЕЛЕХОВ', 'city_ШЕПЕЛЕВО', 'city_ШУШЕНСКОЕ', 'city_ЩЕЛКОВО', 'city_ЭЛЕКТРОСТАЛЬ', 'city_ЮЖНО-САХАЛИНСК', 'city_ЯКУТСК', 'city_ЯЛТА', 'city_ЯРОСЛАВЛЬ', 'city_ЯСНАЯ ПОЛЯНА', 'air_general_level_1', 'air_general_level_2', 'air_general_level_3', 'air_general_level_4', 'air_standard_index_Cажа', 'air_standard_index_H2S', 'air_standard_index_H2S, HCl, ЭБ', 'air_standard_index_H2S, ВВ, Фенол', 'air_standard_index_HCL', 'air_standard_index_HCl', 'air_standard_index_HCl, CO', 'air_standard_index_HCl, H2S', 'air_standard_index_HCl, ЭБ', 'air_standard_index_HCl, ЭБ, Ксилол, H2S', 'air_standard_index_HF', 'air_standard_index_NH3', 'air_standard_index_NH3, H2S', 'air_standard_index_NO2', 'air_standard_index_NO2, H2S', 'air_standard_index_NO2, БП, H2S', 'air_standard_index_NO2, Свинец', 'air_standard_index_NO2, Ф', 'air_standard_index_No substance', 'air_standard_index_Pb', 'air_standard_index_SO2', 'air_standard_index_SO2, H2S', 'air_standard_index_SO2, БП', 'air_standard_index_БП', 'air_standard_index_БП, Cажа', 'air_standard_index_БП, H2S', 'air_standard_index_БП, HCl', 'air_standard_index_БП, NO2', 'air_standard_index_БП, ВВ', 'air_standard_index_БП, ВВ, CO', 'air_standard_index_БП, ВВ, Cажа', 'air_standard_index_БП, ВВ, РМ2,5 РМ10', 'air_standard_index_БП, Н2S', 'air_standard_index_БП, СО', 'air_standard_index_БП, Ф', 'air_standard_index_БП, ЭБ', 'air_standard_index_ВВ', 'air_standard_index_ВВ, Cажа', 'air_standard_index_ВВ, БП', 'air_standard_index_Ксилол', 'air_standard_index_Медь', 'air_standard_index_Метанол', 'air_standard_index_Н2S, Фенол', 'air_standard_index_РМ10', 'air_standard_index_РМ2.5', 'air_standard_index_СО', 'air_standard_index_СО, SO2', 'air_standard_index_Сажа, ВВ, CO', 'air_standard_index_Свинец', 'air_standard_index_Ф', 'air_standard_index_Ф, CS2', 'air_standard_index_Ф, NO2', 'air_standard_index_Ф, ЭБ', 'air_standard_index_Ф,NO2, NO', 'air_standard_index_Фенол', 'air_standard_index_Фенол, H2S', 'air_standard_index_ЭБ', 'air_standard_index_ЭБ, H2S', 'air_standard_index_ЭБ, БП', 'air_standard_index_ЭБ, Ксилол', 'air_standard_index_ЭБ, Рb', 'air_standard_index_ЭБ,Ксилол, Толуол', 'Noi', 'Rpi', 'SPMi', 'SOi']\n",
      "Отсутствующие признаки: ['year', 'region_oktmo', 'city_oktmo', 'air_repeatability', 'air_qcp', 'air_solid_emissions', 'air_so_emissions', 'air_no_emissions', 'air_co_emissions', 'air_population', 'air_stantions', 'region_Амурская область', 'region_Архангельская область', 'region_Астраханская область', 'region_Белгородская область', 'region_Брянская область', 'region_Владимирская область', 'region_Волгоградская область', 'region_Вологодская область', 'region_Воронежская область', 'region_Еврейская автономная область', 'region_Забайкальский край', 'region_Ивановская область', 'region_Иркутская область', 'region_Калининградская область', 'region_Калужская область', 'region_Камчатский край', 'region_Карачаево-Черкесская Республика', 'region_Кемеровская область', 'region_Кировская область', 'region_Костромская область', 'region_Краснодарский край', 'region_Красноярский край', 'region_Курганская область', 'region_Курская область', 'region_Ленинградская область', 'region_Липецкая область', 'region_Магаданская область', 'region_Москва', 'region_Московская область', 'region_Мурманская область', 'region_Нижегородская область', 'region_Новгородская область', 'region_Новосибирская область', 'region_Омская область', 'region_Оренбургская область', 'region_Орловская область', 'region_Пензенская область', 'region_Пермский край', 'region_Приморский край', 'region_Псковская область', 'region_Республика Башкортостан', 'region_Республика Бурятия', 'region_Республика Дагестан', 'region_Республика Карелия', 'region_Республика Коми', 'region_Республика Крым', 'region_Республика Мордовия', 'region_Республика Саха (Якутия)', 'region_Республика Северная Осетия — Алания', 'region_Республика Татарстан', 'region_Республика Тыва', 'region_Республика Хакасия', 'region_Ростовская область', 'region_Рязанская область', 'region_Самарская область', 'region_Санкт-Петербург', 'region_Саратовская область', 'region_Сахалинская область', 'region_Свердловская область', 'region_Севастополь', 'region_Смоленская область', 'region_Ставропольский край', 'region_Тамбовская область', 'region_Тверская область', 'region_Томская область', 'region_Тульская область', 'region_Тюменская область', 'region_Удмуртская Республика', 'region_Ульяновская область', 'region_Хабаровский край', 'region_Ханты-Мансийский автономный округ — Югра', 'region_Челябинская область', 'region_Чувашская Республика', 'region_Чукотский автономный округ', 'region_Ямало-Ненецкий автономный округ', 'region_Ярославская область', 'city_«ЕРМАКОВСКОЕ»', 'city_«НАЗАРОВСКОЕ»', 'city_«ОЗЕРНОЕ»', 'city_«ОКИНО-КЛЮЧЕВСКОЕ», С.ХУЖИР', 'city_АБАКАН', 'city_АЗОВ', 'city_АКСАРАЙСКИЙ', 'city_АЛЕКСАНДРОВСК-САХАЛИНСКИЙ', 'city_АЛЬМЕТЬЕВСК', 'city_АНАДЫРЬ', 'city_АНГАРСК', 'city_АПАТИТЫ', 'city_АРЗАМАС', 'city_АРМЯНСК', 'city_АРТЕМ', 'city_АРХАНГЕЛЬСК', 'city_АРШАН', 'city_АСТРАХАНЬ', 'city_АЧИНСК', 'city_Б. САКМА', 'city_БАЙБЕК', 'city_БАЙКАЛЬСК', 'city_БАЛАКОВО', 'city_БАЛАХНА', 'city_БАРНАУЛ', 'city_БАТАЙСК', 'city_БЕЗЕНЧУК', 'city_БЕЛАЯ КАЛИТВА', 'city_БЕЛГОРОД', 'city_БЕЛОРЕЧЕНСК', 'city_БЕЛОЯРСКИЙ', 'city_БЕРДСК', 'city_БЕРЕЗНИКИ', 'city_БЕРЕЗОВО', 'city_БИЙСК', 'city_БИРОБИДЖАН', 'city_БИРЮСИНСК', 'city_БЛАГОВЕЩЕНСК', 'city_БОЛЬШАЯ САКМА', 'city_БОЛЬШОЙ КАМЕНЬ', 'city_БОРОВИЧИ', 'city_БРАТСК', 'city_БРЯНСК', 'city_БУЗАН', 'city_ВЕЛИКИЕ ЛУКИ', 'city_ВЕЛИКИЙ НОВГОРОД', 'city_ВИХОРЕВКА', 'city_ВЛАДИВОСТОК', 'city_ВЛАДИКАВКАЗ', 'city_ВЛАДИМИР', 'city_ВОЕЙКОВО', 'city_ВОЛГОГРАД', 'city_ВОЛГОДОНСК', 'city_ВОЛГОРЕЧЕНСК', 'city_ВОЛЖСКИЙ', 'city_ВОЛОГДА', 'city_ВОЛОСОВО', 'city_ВОЛХОВ', 'city_ВОРКУТА', 'city_ВОРОНЕЖ', 'city_ВОСКРЕСЕНСК', 'city_ВЫБОРГ', 'city_ВЫКСА', 'city_ГОРНЫЙ', 'city_ГОРЯЧИНСК', 'city_ГУБАХА', 'city_ГУБКИН', 'city_ГУКОВО', 'city_ГУСИНООЗЕРСК', 'city_ДАЛЬНЕГОРСК', 'city_ДЗЕРЖИНСК', 'city_ДЗЕРЖИНСК (ВОСТОЧНАЯ ПРОМЗОНА)', 'city_ДЗЕРЖИНСКИЙ', 'city_ДИМИТРОВГРАД', 'city_ДОСАНГ', 'city_ЕКАТЕРИНБУРГ', 'city_ЕЛИЗОВО', 'city_ЕРМАКОВСКОЕ', 'city_ЖИГУЛЕВСК', 'city_ЗАПОЛЯРНЫЙ', 'city_ЗАРИНСК', 'city_ЗЕЛЕНЫЙ ГОРОД', 'city_ЗЕЯ', 'city_ЗИМА', 'city_ЗЛАТОУСТ', 'city_ИВАНОВО', 'city_ИЖЕВСК', 'city_ИНЗА', 'city_ИРКУТСК', 'city_ИСКИТИМ', 'city_КАЗАНЬ', 'city_КАЛИНИНГРАД', 'city_КАЛУГА', 'city_КАМЕНСК-УРАЛЬСКИЙ', 'city_КАНДАЛАКША', 'city_КАНСК', 'city_КАРАБАШ', 'city_КЕМЕРОВО', 'city_КЕРЧЬ', 'city_КИНГИСЕПП', 'city_КИРИШИ', 'city_КИРОВ', 'city_КИРОВО-ЧЕПЕЦК', 'city_КИРОВСК', 'city_КИСЛОВОДСК', 'city_КЛИН', 'city_КОЛА', 'city_КОЛОМНА', 'city_КОМСОМОЛЬСК-НА-АМУРЕ', 'city_КОМСОМОЛЬСКИЙ', 'city_КОНДОПОГА', 'city_КОРСАКОВ', 'city_КОРЯЖМА', 'city_КОСТРОМА', 'city_КРАСНОДАР', 'city_КРАСНОКАМЕНСК', 'city_КРАСНОПЕРЕКОПСК', 'city_КРАСНОТУРЬИНСК', 'city_КРАСНОЯРСК', 'city_КРАСНЫЙ ГУЛЯЙ', 'city_КРАСНЫЙ СУЛИН', 'city_КСТОВО', 'city_КУВАНДЫК', 'city_КУЙБЫШЕВ', 'city_КУЛТУК', 'city_КУРГАН', 'city_КУРСК', 'city_КЫЗЫЛ', 'city_КЯХТА', 'city_ЛЕСОСИБИРСК', 'city_ЛИНЕВО', 'city_ЛИПЕЦК', 'city_ЛИСТВЯНКА', 'city_ЛУГА', 'city_МАГАДАН', 'city_МАГНИТОГОРСК', 'city_МАРИИНСК', 'city_МАХАЧКАЛА', 'city_МЕГЕТ', 'city_МЕДНОГОРСК', 'city_МИЛЛЕРОВО', 'city_МИНЕРАЛЬНЫЕ ВОДЫ', 'city_МИНУСИНСК', 'city_МИРНЫЙ', 'city_МОНЧЕГОРСК', 'city_МОСКВА', 'city_МОХСОГОЛЛОХ', 'city_МУЛЛОВКА', 'city_МУРМАНСК', 'city_МЫТИЩИ', 'city_НАБЕРЕЖНЫЕ ЧЕЛНЫ', 'city_НАДВОИЦЫ', 'city_НАЗАРОВО', 'city_НАЗАРОВСКОЕ', 'city_НАРИМАНОВ', 'city_НАХОДКА', 'city_НЕВИННОМЫССК', 'city_НЕРЧИНСК', 'city_НЕРЮНГРИ', 'city_НЕФТЕЮГАНСК', 'city_НИЖНЕВАРТОВСК', 'city_НИЖНЕКАМСК', 'city_НИЖНИЙ НОВГОРОД', 'city_НИЖНИЙ ТАГИЛ', 'city_НИКЕЛЬ', 'city_НИКОЛАЕВСК-НА-АМУРЕ', 'city_НИКОЛЬСКОЕ', 'city_НОВАЯ ЧАРА', 'city_НОВОАЛЕКСАНДРОВСК', 'city_НОВОДВИНСК', 'city_НОВОКУЗНЕЦК', 'city_НОВОКУЙБЫШЕВСК', 'city_НОВОМОСКОВСК', 'city_НОВОРОССИЙСК', 'city_НОВОСИБИРСК', 'city_НОВОСПАССКОЕ', 'city_НОВОТРОИЦК', 'city_НОВОУЛЬЯНОВСК', 'city_НОВОЧЕБОКСАРСК', 'city_НОВОЧЕРКАССК', 'city_НОВОШАХТИНСК', 'city_НОРИЛЬСК', 'city_ОЗЕРНОЕ', 'city_ОКИНО-КЛЮЧЕВСКОЕ', 'city_ОКТЯБРЬСКИЙ', 'city_ОЛЕНЕГОРСК', 'city_ОМСК', 'city_ОРЕЛ', 'city_ОРЕНБУРГ', 'city_ОРСК', 'city_ОТРАДНЫЙ', 'city_ОХА', 'city_П.Г.Т. ГОРНЫЙ', 'city_ПАРТИЗАНСК', 'city_ПЕВЕК', 'city_ПЕНЗА', 'city_ПЕРВОУРАЛЬСК', 'city_ПЕРЕСЛАВЛЬ-ЗАЛЕССКИЙ', 'city_ПЕРМЬ', 'city_ПЕТРОВСК-ЗАБАЙКАЛЬСКИЙ', 'city_ПЕТРОЗАВОДСК', 'city_ПЕТРОПАВЛОВСК-КАМЧАТСКИЙ', 'city_ПЛЕС', 'city_ПОДОЛЬСК', 'city_ПОРОНАЙСК', 'city_ПОС. БОЛЬШАЯ САКМА', 'city_ПОС. ВОСТОЧНЫЙ', 'city_ПОС. КРАСНОАРМЕЙСКИЙ', 'city_ПОС. ОКТЯБРЬСКИЙ', 'city_ПОХВИСТНЕВО', 'city_ПРИВОЛЖСК', 'city_ПРИОКСКО-ТЕРРАСНЫЙ БИОСФЕРНЫЙ ЗАПОВЕДНИК', 'city_ПРОКОПЬЕВСК', 'city_ПСКОВ', 'city_ПЯТИГОРСК', 'city_РАДУЖНЫЙ', 'city_РОСТОВ-НА-ДОНУ', 'city_РУКОПОЛЬ', 'city_РЫБИНСК', 'city_РЯЗАНЬ', 'city_С. БОЛЬШОЙ ЛУГ', 'city_С. СУБУКТУЙ', 'city_С. ХУЖИР', 'city_С. ЧЕЛУТАЙ', 'city_САГАН-НУР', 'city_САЛАВАТ', 'city_САЛЕХАРД', 'city_САЛЬСК', 'city_САМАРА', 'city_САНКТ-ПЕТЕРБУРГ', 'city_САРАНСК', 'city_САРАПУЛ', 'city_САРАТОВ', 'city_САЯНОГОРСК', 'city_САЯНСК', 'city_СВЕТЛЫЙ ЯР', 'city_СВЕТОГОРСК', 'city_СВИРСК', 'city_СЕВАСТОПОЛЬ', 'city_СЕВЕРОДВИНСК', 'city_СЕВЕРОМОРСК', 'city_СЕГЕЖА', 'city_СЕИТОВКА', 'city_СЕЛЕНГИНСК', 'city_СЕНГИЛЕЙ', 'city_СЕРЕБРЯНЫЙ БОР', 'city_СЕРПУХОВ', 'city_СИМФЕРОПОЛЬ', 'city_СЛАНЦЫ', 'city_СЛЮДЯНКА', 'city_СМИРНОВСКИЙ', 'city_СМОЛЕНСК', 'city_СОЛИКАМСК', 'city_СОСНОГОРСК', 'city_СОЧИ', 'city_СПАССК-ДАЛЬНИЙ', 'city_СТАВРОПОЛЬ', 'city_СТАРАЯ КУПАВНА', 'city_СТАРАЯ РУССА', 'city_СТАРЫЙ ОСКОЛ', 'city_СТЕРЛИТАМАК', 'city_СУРГУТ', 'city_СЫЗРАНЬ', 'city_СЫКТЫВКАР', 'city_ТАГАНРОГ', 'city_ТАМБОВ', 'city_ТВЕРЬ', 'city_ТИМОХОВО', 'city_ТИХВИН', 'city_ТОБОЛЬСК', 'city_ТОЛЬЯТТИ', 'city_ТОМСК', 'city_ТУЙМАЗЫ', 'city_ТУЛА', 'city_ТУЛУН', 'city_ТЫНДА', 'city_ТЮМЕНЬ', 'city_УЛАН-УДЭ', 'city_УЛЬЯНОВСК', 'city_УСОЛЬЕ-СИБИРСКОЕ', 'city_УССУРИЙСК', 'city_УСТЬ-ИЛИМСК', 'city_УСТЬ-НЕРА', 'city_УФА', 'city_УХТА', 'city_ХАБАРОВСК', 'city_ХАНТЫ-МАНСИЙСК', 'city_ЦИМЛЯНСК', 'city_ЧАПАЕВСК', 'city_ЧЕБОКСАРЫ', 'city_ЧЕГДОМЫН', 'city_ЧЕЛЯБИНСК', 'city_ЧЕРЕМХОВО', 'city_ЧЕРЕПОВЕЦ', 'city_ЧЕРКЕССК', 'city_ЧЕРНОГОРСК', 'city_ЧИТА', 'city_ШАХТЫ', 'city_ШЕЛЕХОВ', 'city_ШЕПЕЛЕВО', 'city_ШУШЕНСКОЕ', 'city_ЩЕЛКОВО', 'city_ЭЛЕКТРОСТАЛЬ', 'city_ЮЖНО-САХАЛИНСК', 'city_ЯКУТСК', 'city_ЯЛТА', 'city_ЯРОСЛАВЛЬ', 'city_ЯСНАЯ ПОЛЯНА', 'air_general_level_1', 'air_general_level_2', 'air_general_level_3', 'air_general_level_4', 'air_standard_index_Cажа', 'air_standard_index_H2S', 'air_standard_index_H2S, HCl, ЭБ', 'air_standard_index_H2S, ВВ, Фенол', 'air_standard_index_HCL', 'air_standard_index_HCl', 'air_standard_index_HCl, CO', 'air_standard_index_HCl, H2S', 'air_standard_index_HCl, ЭБ', 'air_standard_index_HCl, ЭБ, Ксилол, H2S', 'air_standard_index_HF', 'air_standard_index_NH3', 'air_standard_index_NH3, H2S', 'air_standard_index_NO2', 'air_standard_index_NO2, H2S', 'air_standard_index_NO2, БП, H2S', 'air_standard_index_NO2, Свинец', 'air_standard_index_NO2, Ф', 'air_standard_index_No substance', 'air_standard_index_Pb', 'air_standard_index_SO2', 'air_standard_index_SO2, H2S', 'air_standard_index_SO2, БП', 'air_standard_index_БП', 'air_standard_index_БП, Cажа', 'air_standard_index_БП, H2S', 'air_standard_index_БП, HCl', 'air_standard_index_БП, NO2', 'air_standard_index_БП, ВВ', 'air_standard_index_БП, ВВ, CO', 'air_standard_index_БП, ВВ, Cажа', 'air_standard_index_БП, ВВ, РМ2,5 РМ10', 'air_standard_index_БП, Н2S', 'air_standard_index_БП, СО', 'air_standard_index_БП, Ф', 'air_standard_index_БП, ЭБ', 'air_standard_index_ВВ', 'air_standard_index_ВВ, Cажа', 'air_standard_index_ВВ, БП', 'air_standard_index_Ксилол', 'air_standard_index_Медь', 'air_standard_index_Метанол', 'air_standard_index_Н2S, Фенол', 'air_standard_index_РМ10', 'air_standard_index_РМ2.5', 'air_standard_index_СО', 'air_standard_index_СО, SO2', 'air_standard_index_Сажа, ВВ, CO', 'air_standard_index_Свинец', 'air_standard_index_Ф', 'air_standard_index_Ф, CS2', 'air_standard_index_Ф, NO2', 'air_standard_index_Ф, ЭБ', 'air_standard_index_Ф,NO2, NO', 'air_standard_index_Фенол', 'air_standard_index_Фенол, H2S', 'air_standard_index_ЭБ', 'air_standard_index_ЭБ, H2S', 'air_standard_index_ЭБ, БП', 'air_standard_index_ЭБ, Ксилол', 'air_standard_index_ЭБ, Рb', 'air_standard_index_ЭБ,Ксилол, Толуол', 'Noi', 'Rpi', 'SPMi', 'SOi']\n"
     ]
    }
   ],
   "execution_count": 9
  },
  {
   "metadata": {},
   "cell_type": "markdown",
   "source": "## 5 Использование модели для прогнозирования"
  },
  {
   "metadata": {
    "ExecuteTime": {
     "end_time": "2025-02-02T13:32:53.219866Z",
     "start_time": "2025-02-02T13:32:53.194183Z"
    }
   },
   "cell_type": "code",
   "source": [
    "# Прогнозирование\n",
    "predictions = model.predict(data_final)\n",
    "data_final['Predictions'] = predictions\n",
    "\n",
    "# Сохранение обработанных данных\n",
    "processed_file_path = 'data/processed_data_air_quality.csv'\n",
    "data_final.to_csv(processed_file_path, index=False)\n",
    "print(f\"Обработанные данные сохранены в {processed_file_path}\")\n",
    "\n",
    "# Сохранение прогнозов\n",
    "predictions_file_path = 'data/predictions_air_quality.csv'\n",
    "data_final.to_csv(predictions_file_path, index=False)\n",
    "print(f\"Прогнозы сохранены в {predictions_file_path}\")"
   ],
   "outputs": [
    {
     "name": "stdout",
     "output_type": "stream",
     "text": [
      "Обработанные данные сохранены в data/processed_data_air_quality.csv\n",
      "Прогнозы сохранены в data/predictions_air_quality.csv\n"
     ]
    }
   ],
   "execution_count": 10
  }
 ]
}
