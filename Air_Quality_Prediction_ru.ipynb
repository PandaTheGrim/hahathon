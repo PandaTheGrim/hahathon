{
 "nbformat": 4,
 "nbformat_minor": 0,
 "metadata": {
  "colab": {
   "provenance": []
  },
  "kernelspec": {
   "name": "python3",
   "display_name": "Python 3 (ipykernel)",
   "language": "python"
  },
  "language_info": {
   "name": "python"
  }
 },
 "cells": [
  {
   "cell_type": "markdown",
   "source": [
    "# Анализ работы модели предсказания качества воздуха\n",
    "\n",
    "В работе используются:\n",
    "- Модель Air Quality Prediction ([Kaggle](https://www.kaggle.com/code/hamedetezadi/air-quality-prediction)), в формате [ноутбука](https://colab.research.google.com/drive/14Tlqrmg76i7S33Gc5P5iFvjh7Ml2dXxB?usp=sharing)\n",
    "- Датасет  «СОСТОЯНИЕ ЗАГРЯЗНЕНИЯ АТМОСФЕРЫ В\n",
    " ГОРОДАХ РОССИИ C 2007 ГОДА» - взят с сайта [Если быть точным](https://tochno.st/datasets/air_cities)\n"
   ],
   "metadata": {
    "id": "1j1HOKNPqxKi",
    "pycharm": {
     "name": "#%% md\n"
    }
   }
  },
  {
   "cell_type": "markdown",
   "source": [
    "# 1. Скачивание датасета"
   ],
   "metadata": {
    "id": "q1GYOSPSqW_Z",
    "pycharm": {
     "name": "#%% md\n"
    }
   }
  },
  {
   "cell_type": "code",
   "source": [
    "import os\n",
    "\n",
    "import kagglehub\n",
    "\n",
    "source_dataset_name = \"shrutibhargava94/india-air-quality-data\"\n",
    "source_dataset_files_path = kagglehub.dataset_download(source_dataset_name)\n",
    "\n",
    "print(f\"Скачиваем исходный датасет {source_dataset_name}\")\n",
    "for filename in os.listdir(source_dataset_files_path):\n",
    "    source = os.path.join(source_dataset_files_path, filename)\n",
    "    if os.path.isfile(source):\n",
    "        with open(source, 'rb') as src:\n",
    "            content = src.read()\n",
    "\n",
    "        with open(os.path.join(\"./data\", filename), 'w') as dst:\n",
    "            dst.write(content.decode('utf-8', errors='ignore'))\n",
    "\n",
    "print(f\"Исходный датасет {source_dataset_name} помещен в папку проекта data\")"
   ],
   "metadata": {
    "colab": {
     "base_uri": "https://localhost:8080/"
    },
    "id": "R3CsHZMMuNiS",
    "outputId": "3decd9ef-a388-49cb-f7f1-57283812464f",
    "pycharm": {
     "name": "#%%\n"
    },
    "ExecuteTime": {
     "end_time": "2025-02-06T16:33:07.319411Z",
     "start_time": "2025-02-06T16:33:05.473333Z"
    }
   },
   "outputs": [
    {
     "name": "stderr",
     "output_type": "stream",
     "text": [
      "C:\\Users\\Ingvar\\anaconda3\\envs\\hahathon\\Lib\\site-packages\\tqdm\\auto.py:21: TqdmWarning: IProgress not found. Please update jupyter and ipywidgets. See https://ipywidgets.readthedocs.io/en/stable/user_install.html\n",
      "  from .autonotebook import tqdm as notebook_tqdm\n"
     ]
    },
    {
     "name": "stdout",
     "output_type": "stream",
     "text": [
      "Warning: Looks like you're using an outdated `kagglehub` version, please consider updating (latest version: 0.3.7)\n",
      "Скачиваем исходный датасет shrutibhargava94/india-air-quality-data\n",
      "Исходный датасет shrutibhargava94/india-air-quality-data помещен в папку проекта data\n"
     ]
    }
   ],
   "execution_count": 1
  },
  {
   "cell_type": "markdown",
   "source": "Код автоматически загружает набор данных с платформы Kaggle и сохраняет его в локальной папке. Используются библиотеки kagglehub и os. После задания имени датасета выполняется его скачивание, а затем файлы считываются и записываются в директорию проекта ./data.",
   "metadata": {
    "collapsed": false,
    "pycharm": {
     "name": "#%% md\n"
    }
   }
  },
  {
   "metadata": {
    "pycharm": {
     "name": "#%% md\n"
    }
   },
   "cell_type": "markdown",
   "source": [
    "## 2. Импорт необходимых зависимостей"
   ]
  },
  {
   "metadata": {
    "pycharm": {
     "name": "#%%\n"
    },
    "ExecuteTime": {
     "end_time": "2025-02-06T16:33:07.431431Z",
     "start_time": "2025-02-06T16:33:07.328458Z"
    }
   },
   "cell_type": "code",
   "source": [
    "import pandas as pd\n",
    "import numpy as np\n",
    "import joblib as jl\n",
    "import matplotlib.pyplot as plt\n",
    "import seaborn as sns\n",
    "from scipy import stats"
   ],
   "outputs": [],
   "execution_count": 2
  },
  {
   "metadata": {
    "pycharm": {
     "name": "#%% md\n"
    }
   },
   "cell_type": "markdown",
   "source": [
    "## 3. Описание используемого датасета\n",
    "\n",
    "Данные датасета приведены в соответствии с теми, что были использованы при построении исходной модели с kaggle.\n",
    "* Поле type (тип местности, где был произведен замер) заполнено значением \"Промышленные предприятия\", т.к. все данные собраны по ним.\n",
    "* Поле spm (взвешенные твердые частицы) заполненно значениями поля solid emissions исходного сета.\n",
    "* Поле rspm (концентрация вдыхаемых взвешенных частиц) - значение поля spm умноженного на коэффциент 0,6 (выбран эмпирически).\n",
    "* Поле pm2_5 (твердые частицы) не заполнено, в расчетах исходной модели роли не играет."
   ]
  },
  {
   "metadata": {
    "pycharm": {
     "name": "#%%\n"
    },
    "ExecuteTime": {
     "end_time": "2025-02-06T16:33:08.173689Z",
     "start_time": "2025-02-06T16:33:08.126015Z"
    }
   },
   "cell_type": "code",
   "source": [
    "data = pd.read_csv('data/upd_data_air_cities_100_v20231129_data_air_cities_100_v20231129.csv')\n",
    "data.head()"
   ],
   "outputs": [
    {
     "data": {
      "text/plain": [
       "   stn_code  sampling_date             state      location  agency  \\\n",
       "0   1701000           2007    Алтайский край       БАРНАУЛ     NaN   \n",
       "1   1705000           2007    Алтайский край         БИЙСК     NaN   \n",
       "2   1706000           2007    Алтайский край       ЗАРИНСК     NaN   \n",
       "3  10701000           2007  Амурская область  БЛАГОВЕЩЕНСК     NaN   \n",
       "4  10712000           2007  Амурская область           ЗЕЯ     NaN   \n",
       "\n",
       "                       type   so2  no2   rspm   spm  \\\n",
       "0  Промышленные предприятия  14.7  4.3  14.28  23.8   \n",
       "1  Промышленные предприятия   7.4  2.9   5.40   9.0   \n",
       "2  Промышленные предприятия   4.8  2.4   1.74   2.9   \n",
       "3  Промышленные предприятия   3.8  4.0   7.38  12.3   \n",
       "4  Промышленные предприятия   0.3  0.2   0.24   0.4   \n",
       "\n",
       "   location_monitoring_station  pm2_5  date  \n",
       "0                          NaN    NaN  2007  \n",
       "1                          NaN    NaN  2007  \n",
       "2                          NaN    NaN  2007  \n",
       "3                          NaN    NaN  2007  \n",
       "4                          NaN    NaN  2007  "
      ],
      "text/html": [
       "<div>\n",
       "<style scoped>\n",
       "    .dataframe tbody tr th:only-of-type {\n",
       "        vertical-align: middle;\n",
       "    }\n",
       "\n",
       "    .dataframe tbody tr th {\n",
       "        vertical-align: top;\n",
       "    }\n",
       "\n",
       "    .dataframe thead th {\n",
       "        text-align: right;\n",
       "    }\n",
       "</style>\n",
       "<table border=\"1\" class=\"dataframe\">\n",
       "  <thead>\n",
       "    <tr style=\"text-align: right;\">\n",
       "      <th></th>\n",
       "      <th>stn_code</th>\n",
       "      <th>sampling_date</th>\n",
       "      <th>state</th>\n",
       "      <th>location</th>\n",
       "      <th>agency</th>\n",
       "      <th>type</th>\n",
       "      <th>so2</th>\n",
       "      <th>no2</th>\n",
       "      <th>rspm</th>\n",
       "      <th>spm</th>\n",
       "      <th>location_monitoring_station</th>\n",
       "      <th>pm2_5</th>\n",
       "      <th>date</th>\n",
       "    </tr>\n",
       "  </thead>\n",
       "  <tbody>\n",
       "    <tr>\n",
       "      <th>0</th>\n",
       "      <td>1701000</td>\n",
       "      <td>2007</td>\n",
       "      <td>Алтайский край</td>\n",
       "      <td>БАРНАУЛ</td>\n",
       "      <td>NaN</td>\n",
       "      <td>Промышленные предприятия</td>\n",
       "      <td>14.7</td>\n",
       "      <td>4.3</td>\n",
       "      <td>14.28</td>\n",
       "      <td>23.8</td>\n",
       "      <td>NaN</td>\n",
       "      <td>NaN</td>\n",
       "      <td>2007</td>\n",
       "    </tr>\n",
       "    <tr>\n",
       "      <th>1</th>\n",
       "      <td>1705000</td>\n",
       "      <td>2007</td>\n",
       "      <td>Алтайский край</td>\n",
       "      <td>БИЙСК</td>\n",
       "      <td>NaN</td>\n",
       "      <td>Промышленные предприятия</td>\n",
       "      <td>7.4</td>\n",
       "      <td>2.9</td>\n",
       "      <td>5.40</td>\n",
       "      <td>9.0</td>\n",
       "      <td>NaN</td>\n",
       "      <td>NaN</td>\n",
       "      <td>2007</td>\n",
       "    </tr>\n",
       "    <tr>\n",
       "      <th>2</th>\n",
       "      <td>1706000</td>\n",
       "      <td>2007</td>\n",
       "      <td>Алтайский край</td>\n",
       "      <td>ЗАРИНСК</td>\n",
       "      <td>NaN</td>\n",
       "      <td>Промышленные предприятия</td>\n",
       "      <td>4.8</td>\n",
       "      <td>2.4</td>\n",
       "      <td>1.74</td>\n",
       "      <td>2.9</td>\n",
       "      <td>NaN</td>\n",
       "      <td>NaN</td>\n",
       "      <td>2007</td>\n",
       "    </tr>\n",
       "    <tr>\n",
       "      <th>3</th>\n",
       "      <td>10701000</td>\n",
       "      <td>2007</td>\n",
       "      <td>Амурская область</td>\n",
       "      <td>БЛАГОВЕЩЕНСК</td>\n",
       "      <td>NaN</td>\n",
       "      <td>Промышленные предприятия</td>\n",
       "      <td>3.8</td>\n",
       "      <td>4.0</td>\n",
       "      <td>7.38</td>\n",
       "      <td>12.3</td>\n",
       "      <td>NaN</td>\n",
       "      <td>NaN</td>\n",
       "      <td>2007</td>\n",
       "    </tr>\n",
       "    <tr>\n",
       "      <th>4</th>\n",
       "      <td>10712000</td>\n",
       "      <td>2007</td>\n",
       "      <td>Амурская область</td>\n",
       "      <td>ЗЕЯ</td>\n",
       "      <td>NaN</td>\n",
       "      <td>Промышленные предприятия</td>\n",
       "      <td>0.3</td>\n",
       "      <td>0.2</td>\n",
       "      <td>0.24</td>\n",
       "      <td>0.4</td>\n",
       "      <td>NaN</td>\n",
       "      <td>NaN</td>\n",
       "      <td>2007</td>\n",
       "    </tr>\n",
       "  </tbody>\n",
       "</table>\n",
       "</div>"
      ]
     },
     "execution_count": 3,
     "metadata": {},
     "output_type": "execute_result"
    }
   ],
   "execution_count": 3
  },
  {
   "cell_type": "markdown",
   "source": [
    "Код выполняет загрузку подготовленного датасета, приведенного к требуемому формату для работы с моделью, во фрейм. Для этого спользуется библиотека pandas, а файл данных считывается из директории data с помощью pd.read_csv().\n",
    "\n",
    "После загрузки выполняется просмотр первых строк таблицы через data.head(), что позволяет убедиться в корректности загруженных данных: в таблице присутствуют такие столбцы, как stn_code, sampling_date, state, location, agency и type, содержащие информацию о коде станции, дате измерений, регионе, названии населенного пункта и типе измерения соответственно."
   ],
   "metadata": {
    "collapsed": false,
    "pycharm": {
     "name": "#%% md\n"
    }
   }
  },
  {
   "metadata": {
    "pycharm": {
     "name": "#%%\n"
    },
    "ExecuteTime": {
     "end_time": "2025-02-06T16:33:08.417359Z",
     "start_time": "2025-02-06T16:33:08.394187Z"
    }
   },
   "cell_type": "code",
   "source": [
    "data.info()"
   ],
   "outputs": [
    {
     "name": "stdout",
     "output_type": "stream",
     "text": [
      "<class 'pandas.core.frame.DataFrame'>\n",
      "RangeIndex: 3992 entries, 0 to 3991\n",
      "Data columns (total 13 columns):\n",
      " #   Column                       Non-Null Count  Dtype  \n",
      "---  ------                       --------------  -----  \n",
      " 0   stn_code                     3992 non-null   int64  \n",
      " 1   sampling_date                3992 non-null   int64  \n",
      " 2   state                        3992 non-null   object \n",
      " 3   location                     3992 non-null   object \n",
      " 4   agency                       0 non-null      float64\n",
      " 5   type                         3992 non-null   object \n",
      " 6   so2                          3991 non-null   float64\n",
      " 7   no2                          3991 non-null   float64\n",
      " 8   rspm                         3992 non-null   float64\n",
      " 9   spm                          3991 non-null   float64\n",
      " 10  location_monitoring_station  0 non-null      float64\n",
      " 11  pm2_5                        0 non-null      float64\n",
      " 12  date                         3992 non-null   int64  \n",
      "dtypes: float64(7), int64(3), object(3)\n",
      "memory usage: 405.6+ KB\n"
     ]
    }
   ],
   "execution_count": 4
  },
  {
   "cell_type": "markdown",
   "source": [
    "Как можно увидеть по выводу info(), в наборе данных 13 столбцов, из которых три содержат текстовую информацию (object), три представлены в числовом формате (int64), а семь имеют тип float64.\n",
    "\n",
    "Некоторые столбцы заполнены полностью (например: stn_code, sampling_date, state, location, type, rspm, date), что позволяет сразу использовать их в анализе. Однако есть поля, в которых отсутствуют все значения (agency, location_monitoring_station, pm2_5), а также несколько столбцов с частично пропущенными данными (so2, no2, spm)."
   ],
   "metadata": {
    "collapsed": false,
    "pycharm": {
     "name": "#%% md\n"
    }
   }
  },
  {
   "metadata": {
    "pycharm": {
     "name": "#%% md\n"
    }
   },
   "cell_type": "markdown",
   "source": [
    "## 4. Очистка исходных данных\n",
    "\n",
    "Необходимо осуществить заменену в датафрейме определенных значений (-1 и -0.6) на пропущенные (NaN). Это помогает корректно обрабатывать отсутствующие данные при моделировании."
   ]
  },
  {
   "metadata": {
    "pycharm": {
     "name": "#%%\n"
    },
    "ExecuteTime": {
     "end_time": "2025-02-06T16:33:08.458059Z",
     "start_time": "2025-02-06T16:33:08.452800Z"
    }
   },
   "cell_type": "code",
   "source": [
    "data.replace([-1, -0.6], np.nan, inplace=True)"
   ],
   "outputs": [],
   "execution_count": 5
  },
  {
   "metadata": {
    "pycharm": {
     "name": "#%% md\n"
    }
   },
   "cell_type": "markdown",
   "source": [
    "## 5. Подготовка существующей модели\n",
    "\n",
    "Ниже выполняется загрузка предобученной модели Air_Quality_Prediction.joblib и проверка соответствия входных данных ее ожидаемым признакам. Затем рассчитываются индексы загрязняющих веществ (SOi, Noi, Rpi, SPMi) на основе концентраций so2, no2, rspm и spm. После этого код проверяет, есть ли в данных все необходимые для модели признаки, и добавляет отсутствующие столбцы с заполнением нулями.\n",
    " В итоге формируется датафрейм data_final, содержащий только признаки, нужные для работы модели, с удалением NaN-значений."
   ]
  },
  {
   "cell_type": "code",
   "source": [
    "model_name = \"Air_Quality_Prediction.joblib\"\n",
    "model_path = f\"model/{model_name}\"\n",
    "model = jl.load(model_path)\n",
    "\n",
    "expected_features = model.feature_names_in_\n",
    "print(\"Ожидаемые моделью признаки:\", expected_features)\n",
    "print(\"Текущие признаки:\", data.columns.tolist())\n",
    "\n",
    "def calculate_soi(so2):\n",
    "    si = 0\n",
    "    if so2 <= 40:\n",
    "        si = so2 * (50 / 40)\n",
    "    elif 40 < so2 <= 80:\n",
    "        si = 50 + (so2 - 40) * (50 / 40)\n",
    "    elif 80 < so2 <= 380:\n",
    "        si = 100 + (so2 - 80) * (100 / 300)\n",
    "    elif 380 < so2 <= 800:\n",
    "        si = 200 + (so2 - 380) * (100 / 420)\n",
    "    elif 800 < so2 <= 1600:\n",
    "        si = 300 + (so2 - 800) * (100 / 800)\n",
    "    elif so2 > 1600:\n",
    "        si = 400 + (so2 - 1600) * (100 / 800)\n",
    "\n",
    "    return si\n",
    "\n",
    "\n",
    "def calculate_noi(no2):\n",
    "    if no2 <= 40:\n",
    "        ni = no2 * 50 / 40\n",
    "    elif 40 < no2 <= 80:\n",
    "        ni = 50 + (no2 - 40) * (50 / 40)\n",
    "    elif 80 < no2 <= 180:\n",
    "        ni = 100 + (no2 - 80) * (100 / 100)\n",
    "    elif 180 < no2 <= 280:\n",
    "        ni = 200 + (no2 - 180) * (100 / 100)\n",
    "    elif 280 < no2 <= 400:\n",
    "        ni = 300 + (no2 - 280) * (100 / 120)\n",
    "    else:\n",
    "        ni = 400 + (no2 - 400) * (100 / 120)\n",
    "\n",
    "    return ni\n",
    "\n",
    "\n",
    "def calculate_rpi(rspm):\n",
    "    rpi = 0\n",
    "    if rspm <= 30:\n",
    "        rpi = rspm * 50 / 30\n",
    "    elif 30 < rspm <= 60:\n",
    "        rpi = 50 + (rspm - 30) * 50 / 30\n",
    "    elif 60 < rspm <= 90:\n",
    "        rpi = 100 + (rspm - 60) * 100 / 30\n",
    "    elif 90 < rpi <= 120:\n",
    "        rpi = 200 + (rspm - 90) * 100 / 30\n",
    "    elif 120 < rpi <= 250:\n",
    "        rpi = 300 + (rspm - 120) * (100 / 130)\n",
    "    else:\n",
    "        rpi = 400 + (rspm - 250) * (100 / 130)\n",
    "\n",
    "    return rpi\n",
    "\n",
    "\n",
    "def calculate_spi(spm):\n",
    "    if spm <= 50:\n",
    "        spi = spm * 50 / 50\n",
    "    elif 50 < spm <= 100:\n",
    "        spi = 50 + (spm - 50) * (50 / 50)\n",
    "    elif 100 < spm <= 250:\n",
    "        spi = 100 + (spm - 100) * (100 / 150)\n",
    "    elif 250 < spm <= 350:\n",
    "        spi = 200 + (spm - 250) * (100 / 100)\n",
    "    elif 350 < spm <= 430:\n",
    "        spi = 300 + (spm - 350) * (100 / 80)\n",
    "    else:\n",
    "        spi = 400 + (spm - 430) * (100 / 430)\n",
    "\n",
    "    return spi\n",
    "\n",
    "data['SOi'] = data['so2'].apply(calculate_soi)\n",
    "data['Noi'] = data['no2'].apply(calculate_noi)\n",
    "data['Rpi'] = data['rspm'].apply(calculate_rpi)\n",
    "data['SPMi'] = data['spm'].apply(calculate_spi)\n",
    "\n",
    "missing_features = set(expected_features) - set(data.columns)\n",
    "print(\"Отсутствующие признаки:\", missing_features) if missing_features else print(\n",
    "    \"Отсутствующих для работы модели признаков нет\")\n",
    "\n",
    "for feature in missing_features:\n",
    "    data[feature] = 0\n",
    "\n",
    "# Оставляем только нужные признаки для модели\n",
    "data_final = data[list(expected_features)].copy()\n",
    "data_final.dropna(inplace=True)\n",
    "data_final.head()"
   ],
   "metadata": {
    "colab": {
     "base_uri": "https://localhost:8080/"
    },
    "id": "vk3_Syg1sihi",
    "outputId": "fa6ee615-4113-447d-c308-d1fc3c5ae632",
    "pycharm": {
     "name": "#%%\n"
    },
    "ExecuteTime": {
     "end_time": "2025-02-06T16:33:09.190981Z",
     "start_time": "2025-02-06T16:33:08.515410Z"
    }
   },
   "outputs": [
    {
     "name": "stdout",
     "output_type": "stream",
     "text": [
      "Ожидаемые моделью признаки: ['SOi' 'Noi' 'Rpi' 'SPMi']\n",
      "Текущие признаки: ['stn_code', 'sampling_date', 'state', 'location', 'agency', 'type', 'so2', 'no2', 'rspm', 'spm', 'location_monitoring_station', 'pm2_5', 'date']\n",
      "Отсутствующих для работы модели признаков нет\n"
     ]
    },
    {
     "data": {
      "text/plain": [
       "      SOi    Noi   Rpi  SPMi\n",
       "0  18.375  5.375  23.8  23.8\n",
       "1   9.250  3.625   9.0   9.0\n",
       "2   6.000  3.000   2.9   2.9\n",
       "3   4.750  5.000  12.3  12.3\n",
       "4   0.375  0.250   0.4   0.4"
      ],
      "text/html": [
       "<div>\n",
       "<style scoped>\n",
       "    .dataframe tbody tr th:only-of-type {\n",
       "        vertical-align: middle;\n",
       "    }\n",
       "\n",
       "    .dataframe tbody tr th {\n",
       "        vertical-align: top;\n",
       "    }\n",
       "\n",
       "    .dataframe thead th {\n",
       "        text-align: right;\n",
       "    }\n",
       "</style>\n",
       "<table border=\"1\" class=\"dataframe\">\n",
       "  <thead>\n",
       "    <tr style=\"text-align: right;\">\n",
       "      <th></th>\n",
       "      <th>SOi</th>\n",
       "      <th>Noi</th>\n",
       "      <th>Rpi</th>\n",
       "      <th>SPMi</th>\n",
       "    </tr>\n",
       "  </thead>\n",
       "  <tbody>\n",
       "    <tr>\n",
       "      <th>0</th>\n",
       "      <td>18.375</td>\n",
       "      <td>5.375</td>\n",
       "      <td>23.8</td>\n",
       "      <td>23.8</td>\n",
       "    </tr>\n",
       "    <tr>\n",
       "      <th>1</th>\n",
       "      <td>9.250</td>\n",
       "      <td>3.625</td>\n",
       "      <td>9.0</td>\n",
       "      <td>9.0</td>\n",
       "    </tr>\n",
       "    <tr>\n",
       "      <th>2</th>\n",
       "      <td>6.000</td>\n",
       "      <td>3.000</td>\n",
       "      <td>2.9</td>\n",
       "      <td>2.9</td>\n",
       "    </tr>\n",
       "    <tr>\n",
       "      <th>3</th>\n",
       "      <td>4.750</td>\n",
       "      <td>5.000</td>\n",
       "      <td>12.3</td>\n",
       "      <td>12.3</td>\n",
       "    </tr>\n",
       "    <tr>\n",
       "      <th>4</th>\n",
       "      <td>0.375</td>\n",
       "      <td>0.250</td>\n",
       "      <td>0.4</td>\n",
       "      <td>0.4</td>\n",
       "    </tr>\n",
       "  </tbody>\n",
       "</table>\n",
       "</div>"
      ]
     },
     "execution_count": 6,
     "metadata": {},
     "output_type": "execute_result"
    }
   ],
   "execution_count": 6
  },
  {
   "metadata": {
    "pycharm": {
     "name": "#%% md\n"
    }
   },
   "cell_type": "markdown",
   "source": [
    "## 6. Использование модели для прогнозирования"
   ]
  },
  {
   "cell_type": "markdown",
   "source": [
    "Завершающим этапом выполняется прогнозирование на основе подготовленных данных - моделью выполняются предсказания на основе подготовленных данных, а результаты добавляются в новый столбец Predictions. Обновленный файл сохраняется в data/processed_data_air_quality.csv."
   ],
   "metadata": {
    "collapsed": false,
    "pycharm": {
     "name": "#%% md\n"
    }
   }
  },
  {
   "metadata": {
    "pycharm": {
     "name": "#%%\n"
    },
    "ExecuteTime": {
     "end_time": "2025-02-06T16:33:09.273313Z",
     "start_time": "2025-02-06T16:33:09.238795Z"
    }
   },
   "cell_type": "code",
   "source": [
    "predictions = model.predict(data_final)\n",
    "data_final['Predictions'] = predictions\n",
    "\n",
    "processed_file_path = 'data/processed_data_air_quality.csv'\n",
    "data_final.to_csv(processed_file_path, index=False)\n",
    "print(f\"Обработанные данные сохранены в {processed_file_path}\")"
   ],
   "outputs": [
    {
     "name": "stdout",
     "output_type": "stream",
     "text": [
      "Обработанные данные сохранены в data/processed_data_air_quality.csv\n"
     ]
    }
   ],
   "execution_count": 7
  },
  {
   "cell_type": "markdown",
   "source": [
    "## 7. Анализ обработанных данных"
   ],
   "metadata": {
    "collapsed": false,
    "pycharm": {
     "name": "#%% md\n"
    }
   }
  },
  {
   "cell_type": "code",
   "source": [
    "# Загрузка обработанных данных\n",
    "file_path = \"data/processed_data_air_quality.csv\"\n",
    "data = pd.read_csv(file_path)\n",
    "\n",
    "# Вывод информации о данных\n",
    "print(\"Информация о данных:\")\n",
    "print(data.info())"
   ],
   "metadata": {
    "collapsed": false,
    "pycharm": {
     "name": "#%%\n"
    },
    "ExecuteTime": {
     "end_time": "2025-02-06T16:33:09.325201Z",
     "start_time": "2025-02-06T16:33:09.310256Z"
    }
   },
   "outputs": [
    {
     "name": "stdout",
     "output_type": "stream",
     "text": [
      "Информация о данных:\n",
      "<class 'pandas.core.frame.DataFrame'>\n",
      "RangeIndex: 3518 entries, 0 to 3517\n",
      "Data columns (total 5 columns):\n",
      " #   Column       Non-Null Count  Dtype  \n",
      "---  ------       --------------  -----  \n",
      " 0   SOi          3518 non-null   float64\n",
      " 1   Noi          3518 non-null   float64\n",
      " 2   Rpi          3518 non-null   float64\n",
      " 3   SPMi         3518 non-null   float64\n",
      " 4   Predictions  3518 non-null   float64\n",
      "dtypes: float64(5)\n",
      "memory usage: 137.6 KB\n",
      "None\n"
     ]
    }
   ],
   "execution_count": 8
  },
  {
   "cell_type": "markdown",
   "source": [
    "Для выполнения общей оценки работы модели было выполнено построение графиков.\n",
    "В первую очередь, следует оценить в каких пределах обычно находятся предсказания модели, чтобы изучить распределение. В случае, если оно сильно смещено в одну сторону, модель может плохо работать с редкими случаями."
   ],
   "metadata": {
    "collapsed": false,
    "pycharm": {
     "name": "#%% md\n"
    }
   }
  },
  {
   "cell_type": "code",
   "source": [
    "plt.figure(figsize=(8, 5))\n",
    "sns.histplot(data['Predictions'], bins=30, kde=True, color=\"orange\")\n",
    "plt.title(\"Гистограмма распределения предсказаний модели\")\n",
    "plt.xlabel(\"Predictions\")\n",
    "plt.ylabel(\"Частота\")\n",
    "plt.show()"
   ],
   "metadata": {
    "collapsed": false,
    "pycharm": {
     "name": "#%%\n"
    },
    "ExecuteTime": {
     "end_time": "2025-02-06T16:33:09.772034Z",
     "start_time": "2025-02-06T16:33:09.372084Z"
    }
   },
   "outputs": [
    {
     "data": {
      "text/plain": [
       "<Figure size 800x500 with 1 Axes>"
      ],
      "image/png": "[encoded data removed]"
     },
     "metadata": {},
     "output_type": "display_data"
    }
   ],
   "execution_count": 9
  },
  {
   "cell_type": "markdown",
   "source": [
    "По гистограмме можно заметить, что большинство предсказаний сосредоточено в диапазоне 0–50, а дальше их частота резко падает.\n",
    "Есть редкие выбросы с предсказаниями выше 100, 200 и даже 400, что может указывать на экстремальные случаи в данных."
   ],
   "metadata": {
    "collapsed": false,
    "pycharm": {
     "name": "#%% md\n"
    }
   }
  },
  {
   "cell_type": "markdown",
   "source": [
    "Следующим шагом можно выполнить построение графика для отслеживания корреляции между показателями и предсказаниями - это может быть полезным для проверки значимости параметров: если какой-то показатель оказывает слабое влияние, возможно, модель не учитывает его должным образом."
   ],
   "metadata": {
    "collapsed": false,
    "pycharm": {
     "name": "#%% md\n"
    }
   }
  },
  {
   "cell_type": "code",
   "source": [
    "correlation_matrix = data.corr()\n",
    "\n",
    "plt.figure(figsize=(8, 6))\n",
    "sns.heatmap(correlation_matrix, annot=True, cmap=\"coolwarm\", fmt=\".2f\")\n",
    "plt.title(\"Корреляция между показателями загрязнения и предсказаниями\")\n",
    "plt.show()"
   ],
   "metadata": {
    "collapsed": false,
    "pycharm": {
     "name": "#%%\n"
    },
    "ExecuteTime": {
     "end_time": "2025-02-06T16:33:10.186876Z",
     "start_time": "2025-02-06T16:33:09.993451Z"
    }
   },
   "outputs": [
    {
     "data": {
      "text/plain": [
       "<Figure size 800x600 with 2 Axes>"
      ],
      "image/png": "[encoded data removed]"
     },
     "metadata": {},
     "output_type": "display_data"
    }
   ],
   "execution_count": 10
  },
  {
   "cell_type": "markdown",
   "source": [
    "По данному hitmap можно сделать следующие выводы:\n",
    "1. Noi (индекс по NO₂) имеет сильную положительную корреляцию с Predictions (0.93). Это означает, что модель в основном ориентируется на уровень NO₂ при прогнозировании.\n",
    "2. Rpi и SPMi также оказывают заметное влияние (0.62), но слабее.\n",
    "3. SOi имеет слабую связь с предсказаниями (0.29), что может указывать на его меньшую значимость для модели."
   ],
   "metadata": {
    "collapsed": false,
    "pycharm": {
     "name": "#%% md\n"
    }
   }
  },
  {
   "cell_type": "markdown",
   "source": [
    "### Проведение тестов\n",
    "\n",
    "При анализе предсказаний модели важно убедиться, что модель работает стабильно и предсказания не сильно искажаются выбросами или особенностями данных. Чтобы проверить это, используются статистические тесты.\n",
    "\n",
    "Перед выбором метода сравнения средних предсказаний нужно определить, как распределены данные. Если предсказания модели не распределены нормально, стандартные параметрические тесты (например, t-тест) могут давать некорректные результаты, также необходимо отследить\n",
    "отличия дисперсий предсказаний в данных с выбросами и без, используя критерий Левена (Levene’s test).\n",
    "В зависимости от результатов можно применить t-тест (если нормальность и равные дисперсии) или U-тест Манна-Уитни (если данные не нормальны или дисперсии различны).\n",
    "\n",
    "Этот подход позволяет объективно оценить поведение модели и понять, насколько сильно выбросы влияют на предсказания. Если обнаружится, что модель нестабильна, можно скорректировать предобработку данных или алгоритм предсказания."
   ],
   "metadata": {
    "collapsed": false,
    "pycharm": {
     "name": "#%% md\n"
    }
   }
  },
  {
   "cell_type": "code",
   "source": [
    "# Оставляем только числовые данные\n",
    "data_numeric_only = data.select_dtypes(include=[\"number\"]).copy()\n",
    "\n",
    "# Определение выбросов с использованием межквартильного размаха (IQR)\n",
    "Q1 = data_numeric_only.quantile(0.25)\n",
    "Q3 = data_numeric_only.quantile(0.75)\n",
    "IQR = Q3 - Q1\n",
    "\n",
    "# Создание столбца, указывающего на наличие выбросов (работаем только с числовыми данными)\n",
    "data_numeric_only[\"Has_Outliers\"] = ((data_numeric_only < (Q1 - 1.5 * IQR)) | (data_numeric_only > (Q3 + 1.5 * IQR))).any(axis=1)\n",
    "\n",
    "# Выбор предсказанных значений в группах с выбросами и без\n",
    "predictions_with_outliers = data_numeric_only.loc[data_numeric_only[\"Has_Outliers\"], \"Predictions\"]\n",
    "predictions_without_outliers = data_numeric_only.loc[~data_numeric_only[\"Has_Outliers\"], \"Predictions\"]\n",
    "\n",
    "# 1. Проверка нормальности предсказаний (Shapiro-Wilk test)\n",
    "shapiro_stat_pred, shapiro_p_pred = stats.shapiro(data_numeric_only[\"Predictions\"])\n",
    "shapiro_stat_out, shapiro_p_out = stats.shapiro(predictions_with_outliers)\n",
    "shapiro_stat_no_out, shapiro_p_no_out = stats.shapiro(predictions_without_outliers)\n",
    "\n",
    "# 2. Проверка равенства дисперсий, критерий Левена (Levene’s test)\n",
    "levene_stat, levene_p = stats.levene(predictions_with_outliers, predictions_without_outliers)\n",
    "\n",
    "# Вывод результатов тестов\n",
    "print(\"### Результаты статистических тестов ###\\n\")\n",
    "\n",
    "print(f\"1. Тест Шапиро-Уилка (проверка нормальности предсказаний)\")\n",
    "print(f\"   Полные данные: p = {shapiro_p_pred:.2e}\")\n",
    "print(f\"   Данные с выбросами: p = {shapiro_p_out:.2e}\")\n",
    "print(f\"   Данные без выбросов: p = {shapiro_p_no_out:.2e}\")\n",
    "if shapiro_p_pred < 0.05:\n",
    "    print(\"Предсказания НЕ распределены нормально.\\n\")\n",
    "else:\n",
    "    print(\"Предсказания распределены нормально.\\n\")\n",
    "\n",
    "print(f\"2. Тест Левена (проверка равенства дисперсий)\")\n",
    "print(f\"   p = {levene_p:.2e}\")\n",
    "if levene_p < 0.05:\n",
    "    print(\"Дисперсии различаются. Выбросы вызывают нестабильность модели.\\n\")\n",
    "else:\n",
    "    print(\"Дисперсии равны. Выбросы не оказывают влияния на изменчивость модели.\\n\")\n"
   ],
   "metadata": {
    "collapsed": false,
    "pycharm": {
     "name": "#%%\n"
    },
    "ExecuteTime": {
     "end_time": "2025-02-06T16:33:10.634936Z",
     "start_time": "2025-02-06T16:33:10.616086Z"
    }
   },
   "outputs": [
    {
     "name": "stdout",
     "output_type": "stream",
     "text": [
      "### Результаты статистических тестов ###\n",
      "\n",
      "1. Тест Шапиро-Уилка (проверка нормальности предсказаний)\n",
      "   Полные данные: p = 1.95e-71\n",
      "   Данные с выбросами: p = 2.21e-39\n",
      "   Данные без выбросов: p = 1.04e-42\n",
      "Предсказания НЕ распределены нормально.\n",
      "\n",
      "2. Тест Левена (проверка равенства дисперсий)\n",
      "   p = 2.42e-118\n",
      "Дисперсии различаются. Выбросы вызывают нестабильность модели.\n",
      "\n"
     ]
    }
   ],
   "execution_count": 11
  },
  {
   "cell_type": "markdown",
   "source": [
    "В результате проведения проверок, можно сделать следующие выводы:\n",
    "1. Так как предсказания не распределены нормально, применять t-тест нельзя.\n",
    "2. При проверке дисперсии подтверждается, что предсказания в данных с выбросами имеют гораздо большую изменчивость, чем без них.\n",
    "\n",
    "Выбросы сильно искажают предсказания модели - предсказания не распределены нормально, что может указывать на проблемы с качеством данных или переобучением модели;\n",
    "дисперсия в данных с выбросами гораздо выше, что подтверждает нестабильность модели в экстремальных случаях.\n",
    "\n",
    "Так как данные не нормальны и имеют разную дисперсию, следует применить статистический непараметрический U-тест Манна-Уитни."
   ],
   "metadata": {
    "collapsed": false,
    "pycharm": {
     "name": "#%% md\n"
    }
   }
  },
  {
   "cell_type": "markdown",
   "source": [
    "U-тест Манна-Уитни используется для сравнения двух групп данных, в нашем случае мы хотим понять:\n",
    "\n",
    "Есть ли статистически значимое различие между предсказаниями модели для данных с выбросами и без?\n",
    "Сильно ли выбросы влияют на предсказания?\n",
    "Если p-значение теста < 0.05, значит, различия значимы, и модель ведет себя по-разному в зависимости от наличия выбросов."
   ],
   "metadata": {
    "collapsed": false,
    "pycharm": {
     "name": "#%% md\n"
    }
   }
  },
  {
   "cell_type": "code",
   "source": [
    "# Проведение U-теста Манна-Уитни (непараметрический тест)\n",
    "u_stat, u_p_value = stats.mannwhitneyu(\n",
    "    predictions_with_outliers,\n",
    "    predictions_without_outliers,\n",
    "    alternative=\"two-sided\"\n",
    ")\n",
    "\n",
    "# Вывод результатов теста\n",
    "print(\"### U-тест Манна-Уитни (сравнение предсказаний с выбросами и без) ###\\n\")\n",
    "print(f\"U-статистика: {u_stat:.2f}\")\n",
    "print(f\"p-значение: {u_p_value:.2e}\")\n",
    "\n",
    "# Интерпретация результата\n",
    "if u_p_value < 0.05:\n",
    "    print(\"Различие предсказаний в данных с выбросами и без значимо.\")\n",
    "    print(\"   Модель работает по-разному в зависимости от наличия выбросов.\\n\")\n",
    "else:\n",
    "    print(\"Различие предсказаний незначимо.\")\n",
    "    print(\"   Выбросы не оказывают сильного влияния на предсказания модели.\\n\")"
   ],
   "metadata": {
    "collapsed": false,
    "pycharm": {
     "name": "#%%\n"
    },
    "ExecuteTime": {
     "end_time": "2025-02-06T16:33:10.723220Z",
     "start_time": "2025-02-06T16:33:10.715316Z"
    }
   },
   "outputs": [
    {
     "name": "stdout",
     "output_type": "stream",
     "text": [
      "### U-тест Манна-Уитни (сравнение предсказаний с выбросами и без) ###\n",
      "\n",
      "U-статистика: 2037685.00\n",
      "p-значение: 0.00e+00\n",
      "Различие предсказаний в данных с выбросами и без значимо.\n",
      "   Модель работает по-разному в зависимости от наличия выбросов.\n",
      "\n"
     ]
    }
   ],
   "execution_count": 12
  },
  {
   "cell_type": "markdown",
   "source": [
    "## Вывод\n",
    "Значение U-статистики (2037685.00) говорит о том, что распределения предсказаний в данных с выбросами и без различаются.\n",
    "p-значение = 0.00 (меньше 0.05) означает, что это различие статистически значимо.\n",
    "\n",
    "Это может означать, что выбросы сильно влияют на предсказания, и модель нестабильна в экстремальных ситуациях.\n",
    "Возможно, модель слишком чувствительна к редким или аномальным значениям."
   ],
   "metadata": {
    "collapsed": false,
    "pycharm": {
     "name": "#%% md\n"
    }
   }
  }
 ]
}
