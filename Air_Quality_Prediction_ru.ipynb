{
 "nbformat": 4,
 "nbformat_minor": 0,
 "metadata": {
  "colab": {
   "provenance": []
  },
  "kernelspec": {
   "name": "python3",
   "display_name": "Python 3 (ipykernel)",
   "language": "python"
  },
  "language_info": {
   "name": "python"
  }
 },
 "cells": [
  {
   "cell_type": "markdown",
   "source": [
    "# Анализ работы модели предсказания качества воздуха\n",
    "\n",
    "В работе используются:\n",
    "- Модель Air Quality Prediction ([Kaggle](https://www.kaggle.com/code/hamedetezadi/air-quality-prediction)), в формате [ноутбука](https://colab.research.google.com/drive/14Tlqrmg76i7S33Gc5P5iFvjh7Ml2dXxB?usp=sharing)\n",
    "- Датасет  «СОСТОЯНИЕ ЗАГРЯЗНЕНИЯ АТМОСФЕРЫ В\n",
    " ГОРОДАХ РОССИИ C 2007 ГОДА» - взят с сайта [Если быть точным](https://tochno.st/datasets/air_cities)\n"
   ],
   "metadata": {
    "id": "1j1HOKNPqxKi"
   }
  },
  {
   "cell_type": "markdown",
   "source": "# 1. Скачивание датасета",
   "metadata": {
    "id": "q1GYOSPSqW_Z"
   }
  },
  {
   "cell_type": "code",
   "source": [
    "import os\n",
    "\n",
    "import kagglehub\n",
    "\n",
    "source_dataset_name = \"shrutibhargava94/india-air-quality-data\"\n",
    "source_dataset_files_path = kagglehub.dataset_download(source_dataset_name)\n",
    "\n",
    "print(f\"Скачиваем исходный датасет {source_dataset_name}\")\n",
    "for filename in os.listdir(source_dataset_files_path):\n",
    "    source = os.path.join(source_dataset_files_path, filename)\n",
    "    if os.path.isfile(source):\n",
    "        with open(source, 'rb') as src:\n",
    "            content = src.read()\n",
    "\n",
    "        with open(os.path.join(\"./data\", filename), 'w') as dst:\n",
    "            dst.write(content.decode('utf-8', errors='ignore'))\n",
    "\n",
    "print(f\"Исходный датасет {source_dataset_name} помещен в папку проекта data\")"
   ],
   "metadata": {
    "colab": {
     "base_uri": "https://localhost:8080/"
    },
    "id": "R3CsHZMMuNiS",
    "outputId": "3decd9ef-a388-49cb-f7f1-57283812464f",
    "ExecuteTime": {
     "end_time": "2025-02-03T17:48:42.541995Z",
     "start_time": "2025-02-03T17:48:41.338796Z"
    }
   },
   "outputs": [
    {
     "name": "stdout",
     "output_type": "stream",
     "text": [
      "Warning: Looks like you're using an outdated `kagglehub` version, please consider updating (latest version: 0.3.6)\n",
      "Скачиваем исходный датасет shrutibhargava94/india-air-quality-data\n",
      "Исходный датасет shrutibhargava94/india-air-quality-data помещен в папку проекта data\n"
     ]
    }
   ],
   "execution_count": 79
  },
  {
   "metadata": {},
   "cell_type": "markdown",
   "source": "## 2. Импорт необходимых зависимостей"
  },
  {
   "metadata": {
    "ExecuteTime": {
     "end_time": "2025-02-03T17:48:44.450794Z",
     "start_time": "2025-02-03T17:48:44.447494Z"
    }
   },
   "cell_type": "code",
   "source": [
    "import pandas as pd\n",
    "import numpy as np\n",
    "import joblib as jl"
   ],
   "outputs": [],
   "execution_count": 80
  },
  {
   "metadata": {},
   "cell_type": "markdown",
   "source": [
    "## 3. Описание используемого датасета\n",
    "\n",
    "Данные датасета приведены в соответствии с теми, что были использованы при построении исходной модели с kaggle.\n",
    "* Поле type (тип местности, где был произведен замер) заполнено значением \"Промышленные предприятия\", т.к. все данные собраны по ним.\n",
    "* Поле spm (взвешенные твердые частицы) заполненно значениями поля solid emissions исходного сета.\n",
    "* Поле rspm (концентрация вдыхаемых взвешенных частиц) - значение поля spm умноженного на коэффциент 0,6 (выбран эмпирически).\n",
    "* Поле pm2_5 (твердые частицы) не заполнено, в расчетах исходной модели роли не играет."
   ]
  },
  {
   "metadata": {
    "ExecuteTime": {
     "end_time": "2025-02-03T17:48:46.488213Z",
     "start_time": "2025-02-03T17:48:46.461077Z"
    }
   },
   "cell_type": "code",
   "source": [
    "# данные датасета приведенные к требуемому виду для использования исходной моделью\n",
    "data = pd.read_csv('data/upd_data_air_cities_100_v20231129_data_air_cities_100_v20231129.csv')\n",
    "data.head()"
   ],
   "outputs": [
    {
     "data": {
      "text/plain": [
       "   stn_code  sampling_date             state      location  agency  \\\n",
       "0   1701000           2007    Алтайский край       БАРНАУЛ     NaN   \n",
       "1   1705000           2007    Алтайский край         БИЙСК     NaN   \n",
       "2   1706000           2007    Алтайский край       ЗАРИНСК     NaN   \n",
       "3  10701000           2007  Амурская область  БЛАГОВЕЩЕНСК     NaN   \n",
       "4  10712000           2007  Амурская область           ЗЕЯ     NaN   \n",
       "\n",
       "                       type   so2  no2   rspm   spm  \\\n",
       "0  Промышленные предприятия  14.7  4.3  14.28  23.8   \n",
       "1  Промышленные предприятия   7.4  2.9   5.40   9.0   \n",
       "2  Промышленные предприятия   4.8  2.4   1.74   2.9   \n",
       "3  Промышленные предприятия   3.8  4.0   7.38  12.3   \n",
       "4  Промышленные предприятия   0.3  0.2   0.24   0.4   \n",
       "\n",
       "   location_monitoring_station  pm2_5  date  \n",
       "0                          NaN    NaN  2007  \n",
       "1                          NaN    NaN  2007  \n",
       "2                          NaN    NaN  2007  \n",
       "3                          NaN    NaN  2007  \n",
       "4                          NaN    NaN  2007  "
      ],
      "text/html": [
       "<div>\n",
       "<style scoped>\n",
       "    .dataframe tbody tr th:only-of-type {\n",
       "        vertical-align: middle;\n",
       "    }\n",
       "\n",
       "    .dataframe tbody tr th {\n",
       "        vertical-align: top;\n",
       "    }\n",
       "\n",
       "    .dataframe thead th {\n",
       "        text-align: right;\n",
       "    }\n",
       "</style>\n",
       "<table border=\"1\" class=\"dataframe\">\n",
       "  <thead>\n",
       "    <tr style=\"text-align: right;\">\n",
       "      <th></th>\n",
       "      <th>stn_code</th>\n",
       "      <th>sampling_date</th>\n",
       "      <th>state</th>\n",
       "      <th>location</th>\n",
       "      <th>agency</th>\n",
       "      <th>type</th>\n",
       "      <th>so2</th>\n",
       "      <th>no2</th>\n",
       "      <th>rspm</th>\n",
       "      <th>spm</th>\n",
       "      <th>location_monitoring_station</th>\n",
       "      <th>pm2_5</th>\n",
       "      <th>date</th>\n",
       "    </tr>\n",
       "  </thead>\n",
       "  <tbody>\n",
       "    <tr>\n",
       "      <th>0</th>\n",
       "      <td>1701000</td>\n",
       "      <td>2007</td>\n",
       "      <td>Алтайский край</td>\n",
       "      <td>БАРНАУЛ</td>\n",
       "      <td>NaN</td>\n",
       "      <td>Промышленные предприятия</td>\n",
       "      <td>14.7</td>\n",
       "      <td>4.3</td>\n",
       "      <td>14.28</td>\n",
       "      <td>23.8</td>\n",
       "      <td>NaN</td>\n",
       "      <td>NaN</td>\n",
       "      <td>2007</td>\n",
       "    </tr>\n",
       "    <tr>\n",
       "      <th>1</th>\n",
       "      <td>1705000</td>\n",
       "      <td>2007</td>\n",
       "      <td>Алтайский край</td>\n",
       "      <td>БИЙСК</td>\n",
       "      <td>NaN</td>\n",
       "      <td>Промышленные предприятия</td>\n",
       "      <td>7.4</td>\n",
       "      <td>2.9</td>\n",
       "      <td>5.40</td>\n",
       "      <td>9.0</td>\n",
       "      <td>NaN</td>\n",
       "      <td>NaN</td>\n",
       "      <td>2007</td>\n",
       "    </tr>\n",
       "    <tr>\n",
       "      <th>2</th>\n",
       "      <td>1706000</td>\n",
       "      <td>2007</td>\n",
       "      <td>Алтайский край</td>\n",
       "      <td>ЗАРИНСК</td>\n",
       "      <td>NaN</td>\n",
       "      <td>Промышленные предприятия</td>\n",
       "      <td>4.8</td>\n",
       "      <td>2.4</td>\n",
       "      <td>1.74</td>\n",
       "      <td>2.9</td>\n",
       "      <td>NaN</td>\n",
       "      <td>NaN</td>\n",
       "      <td>2007</td>\n",
       "    </tr>\n",
       "    <tr>\n",
       "      <th>3</th>\n",
       "      <td>10701000</td>\n",
       "      <td>2007</td>\n",
       "      <td>Амурская область</td>\n",
       "      <td>БЛАГОВЕЩЕНСК</td>\n",
       "      <td>NaN</td>\n",
       "      <td>Промышленные предприятия</td>\n",
       "      <td>3.8</td>\n",
       "      <td>4.0</td>\n",
       "      <td>7.38</td>\n",
       "      <td>12.3</td>\n",
       "      <td>NaN</td>\n",
       "      <td>NaN</td>\n",
       "      <td>2007</td>\n",
       "    </tr>\n",
       "    <tr>\n",
       "      <th>4</th>\n",
       "      <td>10712000</td>\n",
       "      <td>2007</td>\n",
       "      <td>Амурская область</td>\n",
       "      <td>ЗЕЯ</td>\n",
       "      <td>NaN</td>\n",
       "      <td>Промышленные предприятия</td>\n",
       "      <td>0.3</td>\n",
       "      <td>0.2</td>\n",
       "      <td>0.24</td>\n",
       "      <td>0.4</td>\n",
       "      <td>NaN</td>\n",
       "      <td>NaN</td>\n",
       "      <td>2007</td>\n",
       "    </tr>\n",
       "  </tbody>\n",
       "</table>\n",
       "</div>"
      ]
     },
     "execution_count": 81,
     "metadata": {},
     "output_type": "execute_result"
    }
   ],
   "execution_count": 81
  },
  {
   "metadata": {
    "ExecuteTime": {
     "end_time": "2025-02-03T16:31:35.727048Z",
     "start_time": "2025-02-03T16:31:35.717204Z"
    }
   },
   "cell_type": "code",
   "source": "data.info()",
   "outputs": [
    {
     "name": "stdout",
     "output_type": "stream",
     "text": [
      "<class 'pandas.core.frame.DataFrame'>\n",
      "RangeIndex: 3992 entries, 0 to 3991\n",
      "Data columns (total 13 columns):\n",
      " #   Column                       Non-Null Count  Dtype  \n",
      "---  ------                       --------------  -----  \n",
      " 0   stn_code                     3992 non-null   int64  \n",
      " 1   sampling_date                3992 non-null   int64  \n",
      " 2   state                        3992 non-null   object \n",
      " 3   location                     3992 non-null   object \n",
      " 4   agency                       0 non-null      float64\n",
      " 5   type                         3992 non-null   object \n",
      " 6   so2                          3991 non-null   float64\n",
      " 7   no2                          3991 non-null   float64\n",
      " 8   rspm                         3992 non-null   float64\n",
      " 9   spm                          3991 non-null   float64\n",
      " 10  location_monitoring_station  0 non-null      float64\n",
      " 11  pm2_5                        0 non-null      float64\n",
      " 12  date                         3992 non-null   int64  \n",
      "dtypes: float64(7), int64(3), object(3)\n",
      "memory usage: 405.6+ KB\n"
     ]
    }
   ],
   "execution_count": 45
  },
  {
   "metadata": {},
   "cell_type": "markdown",
   "source": "## 4. Очистка исходных данных"
  },
  {
   "metadata": {
    "ExecuteTime": {
     "end_time": "2025-02-03T17:48:50.940882Z",
     "start_time": "2025-02-03T17:48:50.934913Z"
    }
   },
   "cell_type": "code",
   "source": "data.replace([-1, -0.6], np.nan, inplace=True)",
   "outputs": [],
   "execution_count": 82
  },
  {
   "metadata": {},
   "cell_type": "markdown",
   "source": "## 4. Подготовка существующей модели"
  },
  {
   "cell_type": "code",
   "source": [
    "# Загрузка существующей модели\n",
    "model_name = \"Air_Quality_Prediction.joblib\"\n",
    "model_path = f\"model/{model_name}\"\n",
    "model = jl.load(model_path)\n",
    "\n",
    "# Определяем ожидаемые признаки для модели\n",
    "expected_features = model.feature_names_in_\n",
    "print(\"Ожидаемые моделью признаки:\", expected_features)\n",
    "print(\"Текущие признаки:\", data.columns.tolist())\n",
    "\n",
    "def calculate_soi(so2):\n",
    "    si = 0\n",
    "    if so2 <= 40:\n",
    "        si = so2 * (50 / 40)\n",
    "    elif 40 < so2 <= 80:\n",
    "        si = 50 + (so2 - 40) * (50 / 40)\n",
    "    elif 80 < so2 <= 380:\n",
    "        si = 100 + (so2 - 80) * (100 / 300)\n",
    "    elif 380 < so2 <= 800:\n",
    "        si = 200 + (so2 - 380) * (100 / 420)\n",
    "    elif 800 < so2 <= 1600:\n",
    "        si = 300 + (so2 - 800) * (100 / 800)\n",
    "    elif so2 > 1600:\n",
    "        si = 400 + (so2 - 1600) * (100 / 800)\n",
    "\n",
    "    return si\n",
    "\n",
    "\n",
    "def calculate_noi(no2):\n",
    "    if no2 <= 40:\n",
    "        ni = no2 * 50 / 40\n",
    "    elif 40 < no2 <= 80:\n",
    "        ni = 50 + (no2 - 40) * (50 / 40)\n",
    "    elif 80 < no2 <= 180:\n",
    "        ni = 100 + (no2 - 80) * (100 / 100)\n",
    "    elif 180 < no2 <= 280:\n",
    "        ni = 200 + (no2 - 180) * (100 / 100)\n",
    "    elif 280 < no2 <= 400:\n",
    "        ni = 300 + (no2 - 280) * (100 / 120)\n",
    "    else:\n",
    "        ni = 400 + (no2 - 400) * (100 / 120)\n",
    "\n",
    "    return ni\n",
    "\n",
    "\n",
    "def calculate_rpi(rspm):\n",
    "    rpi = 0\n",
    "    if rspm <= 30:\n",
    "        rpi = rspm * 50 / 30\n",
    "    elif 30 < rspm <= 60:\n",
    "        rpi = 50 + (rspm - 30) * 50 / 30\n",
    "    elif 60 < rspm <= 90:\n",
    "        rpi = 100 + (rspm - 60) * 100 / 30\n",
    "    elif 90 < rpi <= 120:\n",
    "        rpi = 200 + (rspm - 90) * 100 / 30\n",
    "    elif 120 < rpi <= 250:\n",
    "        rpi = 300 + (rspm - 120) * (100 / 130)\n",
    "    else:\n",
    "        rpi = 400 + (rspm - 250) * (100 / 130)\n",
    "\n",
    "    return rpi\n",
    "\n",
    "\n",
    "def calculate_spi(spm):\n",
    "    if spm <= 50:\n",
    "        spi = spm * 50 / 50\n",
    "    elif 50 < spm <= 100:\n",
    "        spi = 50 + (spm - 50) * (50 / 50)\n",
    "    elif 100 < spm <= 250:\n",
    "        spi = 100 + (spm - 100) * (100 / 150)\n",
    "    elif 250 < spm <= 350:\n",
    "        spi = 200 + (spm - 250) * (100 / 100)\n",
    "    elif 350 < spm <= 430:\n",
    "        spi = 300 + (spm - 350) * (100 / 80)\n",
    "    else:\n",
    "        spi = 400 + (spm - 430) * (100 / 430)\n",
    "\n",
    "    return spi\n",
    "\n",
    "# Добавляем расчетные значения 'SOi' 'Noi' 'Rpi' 'SPMi'\n",
    "data['SOi'] = data['so2'].apply(calculate_soi)\n",
    "data['Noi'] = data['no2'].apply(calculate_noi)\n",
    "data['Rpi'] = data['rspm'].apply(calculate_rpi)\n",
    "data['SPMi'] = data['spm'].apply(calculate_spi)\n",
    "\n",
    "# Подготавливаем список отсутствующих в наших данных признаков\n",
    "missing_features = set(expected_features) - set(data.columns)\n",
    "print(\"Отсутствующие признаки:\", missing_features) if missing_features else print(\n",
    "    \"Отсутствующих для работы модели признаков нет\")\n",
    "\n",
    "# Добавляем отсутствующие признаки, заполняя их нулями\n",
    "for feature in missing_features:\n",
    "    data[feature] = 0\n",
    "\n",
    "# Оставляем только нужные признаки для модели\n",
    "data_final = data[list(expected_features)].copy()\n",
    "# TODO убираю все NaN, не надо так, но думать некогда\n",
    "data_final.dropna(inplace=True)\n",
    "data_final.head()"
   ],
   "metadata": {
    "colab": {
     "base_uri": "https://localhost:8080/"
    },
    "id": "vk3_Syg1sihi",
    "outputId": "fa6ee615-4113-447d-c308-d1fc3c5ae632",
    "ExecuteTime": {
     "end_time": "2025-02-03T17:48:53.143211Z",
     "start_time": "2025-02-03T17:48:53.113987Z"
    }
   },
   "outputs": [
    {
     "name": "stdout",
     "output_type": "stream",
     "text": [
      "Ожидаемые моделью признаки: ['SOi' 'Noi' 'Rpi' 'SPMi']\n",
      "Текущие признаки: ['stn_code', 'sampling_date', 'state', 'location', 'agency', 'type', 'so2', 'no2', 'rspm', 'spm', 'location_monitoring_station', 'pm2_5', 'date']\n",
      "Отсутствующих для работы модели признаков нет\n"
     ]
    },
    {
     "data": {
      "text/plain": [
       "      SOi    Noi   Rpi  SPMi\n",
       "0  18.375  5.375  23.8  23.8\n",
       "1   9.250  3.625   9.0   9.0\n",
       "2   6.000  3.000   2.9   2.9\n",
       "3   4.750  5.000  12.3  12.3\n",
       "4   0.375  0.250   0.4   0.4"
      ],
      "text/html": [
       "<div>\n",
       "<style scoped>\n",
       "    .dataframe tbody tr th:only-of-type {\n",
       "        vertical-align: middle;\n",
       "    }\n",
       "\n",
       "    .dataframe tbody tr th {\n",
       "        vertical-align: top;\n",
       "    }\n",
       "\n",
       "    .dataframe thead th {\n",
       "        text-align: right;\n",
       "    }\n",
       "</style>\n",
       "<table border=\"1\" class=\"dataframe\">\n",
       "  <thead>\n",
       "    <tr style=\"text-align: right;\">\n",
       "      <th></th>\n",
       "      <th>SOi</th>\n",
       "      <th>Noi</th>\n",
       "      <th>Rpi</th>\n",
       "      <th>SPMi</th>\n",
       "    </tr>\n",
       "  </thead>\n",
       "  <tbody>\n",
       "    <tr>\n",
       "      <th>0</th>\n",
       "      <td>18.375</td>\n",
       "      <td>5.375</td>\n",
       "      <td>23.8</td>\n",
       "      <td>23.8</td>\n",
       "    </tr>\n",
       "    <tr>\n",
       "      <th>1</th>\n",
       "      <td>9.250</td>\n",
       "      <td>3.625</td>\n",
       "      <td>9.0</td>\n",
       "      <td>9.0</td>\n",
       "    </tr>\n",
       "    <tr>\n",
       "      <th>2</th>\n",
       "      <td>6.000</td>\n",
       "      <td>3.000</td>\n",
       "      <td>2.9</td>\n",
       "      <td>2.9</td>\n",
       "    </tr>\n",
       "    <tr>\n",
       "      <th>3</th>\n",
       "      <td>4.750</td>\n",
       "      <td>5.000</td>\n",
       "      <td>12.3</td>\n",
       "      <td>12.3</td>\n",
       "    </tr>\n",
       "    <tr>\n",
       "      <th>4</th>\n",
       "      <td>0.375</td>\n",
       "      <td>0.250</td>\n",
       "      <td>0.4</td>\n",
       "      <td>0.4</td>\n",
       "    </tr>\n",
       "  </tbody>\n",
       "</table>\n",
       "</div>"
      ]
     },
     "execution_count": 83,
     "metadata": {},
     "output_type": "execute_result"
    }
   ],
   "execution_count": 83
  },
  {
   "metadata": {},
   "cell_type": "markdown",
   "source": "## 5 Использование модели для прогнозирования"
  },
  {
   "metadata": {
    "ExecuteTime": {
     "end_time": "2025-02-03T17:48:57.221787Z",
     "start_time": "2025-02-03T17:48:57.197836Z"
    }
   },
   "cell_type": "code",
   "source": [
    "# Прогнозирование\n",
    "predictions = model.predict(data_final)\n",
    "data_final['Predictions'] = predictions\n",
    "\n",
    "# Сохранение обработанных данных\n",
    "processed_file_path = 'data/processed_data_air_quality.csv'\n",
    "data_final.to_csv(processed_file_path, index=False)\n",
    "print(f\"Обработанные данные сохранены в {processed_file_path}\")"
   ],
   "outputs": [
    {
     "name": "stdout",
     "output_type": "stream",
     "text": [
      "Обработанные данные сохранены в data/processed_data_air_quality.csv\n"
     ]
    }
   ],
   "execution_count": 84
  }
 ]
}
